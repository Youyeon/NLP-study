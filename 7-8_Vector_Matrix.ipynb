{
 "cells": [
  {
   "cell_type": "markdown",
   "id": "e2016fad",
   "metadata": {},
   "source": [
    "# 텐서(Tensor)"
   ]
  },
  {
   "cell_type": "code",
   "execution_count": 2,
   "id": "c6ac9d7a",
   "metadata": {},
   "outputs": [],
   "source": [
    "import numpy as np"
   ]
  },
  {
   "cell_type": "markdown",
   "id": "5bd4cc06",
   "metadata": {},
   "source": [
    "## 0차원 텐서 (스칼라)"
   ]
  },
  {
   "cell_type": "code",
   "execution_count": 3,
   "id": "8bd72ef2",
   "metadata": {},
   "outputs": [
    {
     "name": "stdout",
     "output_type": "stream",
     "text": [
      "0\n",
      "()\n"
     ]
    }
   ],
   "source": [
    "d = np.array(5)\n",
    "print(d.ndim) # 차원수\n",
    "print(d.shape) # 텐서의 크기"
   ]
  },
  {
   "cell_type": "markdown",
   "id": "b3315734",
   "metadata": {},
   "source": [
    "## 1차원 텐서 (벡터)"
   ]
  },
  {
   "cell_type": "code",
   "execution_count": 4,
   "id": "e560537b",
   "metadata": {},
   "outputs": [
    {
     "name": "stdout",
     "output_type": "stream",
     "text": [
      "1\n",
      "(4,)\n"
     ]
    }
   ],
   "source": [
    "d = np.array([1,2,3,4])\n",
    "print(d.ndim)\n",
    "print(d.shape)"
   ]
  },
  {
   "cell_type": "markdown",
   "id": "b097d03c",
   "metadata": {},
   "source": [
    "## 2차원 텐서 (행렬)"
   ]
  },
  {
   "cell_type": "code",
   "execution_count": 5,
   "id": "e5fd1d3d",
   "metadata": {},
   "outputs": [
    {
     "name": "stdout",
     "output_type": "stream",
     "text": [
      "2\n",
      "(3, 4)\n"
     ]
    }
   ],
   "source": [
    "d = np.array([[1,2,3,4],[5,6,7,8],[9,10,11,12]])\n",
    "print(d.ndim)\n",
    "print(d.shape)"
   ]
  },
  {
   "cell_type": "markdown",
   "id": "8705876a",
   "metadata": {},
   "source": [
    "## 3차원 텐서"
   ]
  },
  {
   "cell_type": "code",
   "execution_count": 6,
   "id": "f2b50b42",
   "metadata": {},
   "outputs": [
    {
     "name": "stdout",
     "output_type": "stream",
     "text": [
      "3\n",
      "(2, 3, 5)\n"
     ]
    }
   ],
   "source": [
    "d=np.array([\n",
    "            [[1, 2, 3, 4, 5], [6, 7, 8, 9, 10], [10, 11, 12, 13, 14]],\n",
    "            [[15, 16, 17, 18, 19], [19, 20, 21, 22, 23], [23, 24, 25, 26, 27]]\n",
    "            ])\n",
    "print(d.ndim)\n",
    "print(d.shape)"
   ]
  },
  {
   "cell_type": "markdown",
   "id": "cb9abaae",
   "metadata": {},
   "source": [
    "## 벡터의 내적\n",
    "<ol>\n",
    "    <li> 두 벡터의 차원이 같아야 한다.</li>\n",
    "    <li> 앞의 벡터가 행벡터이고, 뒤의 벡터가 열벡터여야 한다.</li>\n",
    "    <li> 내적의 결과는 스칼라이다.</li>\n",
    "</ol>"
   ]
  },
  {
   "cell_type": "code",
   "execution_count": 7,
   "id": "f0dbcabd",
   "metadata": {},
   "outputs": [
    {
     "data": {
      "text/plain": [
       "32"
      ]
     },
     "execution_count": 7,
     "metadata": {},
     "output_type": "execute_result"
    }
   ],
   "source": [
    "a = np.array([1, 2, 3])\n",
    "b = np.array([4, 5, 6])\n",
    "np.dot(a,b)"
   ]
  },
  {
   "cell_type": "markdown",
   "id": "59cd0155",
   "metadata": {},
   "source": [
    "## 행렬의 곱셈\n",
    "<ol>\n",
    "    <li> 왼쪽 행렬의 행벡터와 오른쪽 행렬의 열벡터의 내적이 결과 행렬의 원소가 된다.</li>\n",
    "</ol>"
   ]
  },
  {
   "cell_type": "code",
   "execution_count": 9,
   "id": "3f6f5cb4",
   "metadata": {},
   "outputs": [
    {
     "data": {
      "text/plain": [
       "array([[23, 31],\n",
       "       [34, 46]])"
      ]
     },
     "execution_count": 9,
     "metadata": {},
     "output_type": "execute_result"
    }
   ],
   "source": [
    "a = np.array([[1, 3],[2, 4]])\n",
    "b = np.array([[5, 7],[6, 8]])\n",
    "np.matmul(a,b)"
   ]
  },
  {
   "cell_type": "code",
   "execution_count": null,
   "id": "9ffaf7da",
   "metadata": {},
   "outputs": [],
   "source": []
  }
 ],
 "metadata": {
  "kernelspec": {
   "display_name": "Python 3",
   "language": "python",
   "name": "python3"
  },
  "language_info": {
   "codemirror_mode": {
    "name": "ipython",
    "version": 3
   },
   "file_extension": ".py",
   "mimetype": "text/x-python",
   "name": "python",
   "nbconvert_exporter": "python",
   "pygments_lexer": "ipython3",
   "version": "3.8.8"
  }
 },
 "nbformat": 4,
 "nbformat_minor": 5
}
