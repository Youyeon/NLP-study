{
 "cells": [
  {
   "cell_type": "markdown",
   "id": "a30dbfaa",
   "metadata": {},
   "source": [
    "# 8-6 케라스(Keras) 훑어보기"
   ]
  },
  {
   "cell_type": "markdown",
   "id": "08bfac32",
   "metadata": {},
   "source": [
    "## 1. 전처리(Preprocessing)"
   ]
  },
  {
   "cell_type": "code",
   "execution_count": 8,
   "id": "2a607d57",
   "metadata": {},
   "outputs": [
    {
     "name": "stdout",
     "output_type": "stream",
     "text": [
      "sequences:  [1, 2, 3, 4, 6, 7]\n",
      "word_index:  {'the': 1, 'earth': 2, 'is': 3, 'an': 4, 'awesome': 5, 'place': 6, 'live': 7}\n"
     ]
    }
   ],
   "source": [
    "# Tokenizer(): 토큰화와 정수 인코딩(단어에 대한 인덱싱)을 위해 사용.\n",
    "from tensorflow.keras.preprocessing.text import Tokenizer\n",
    "\n",
    "t = Tokenizer()\n",
    "fit_text = \"The earth is an awesome place live\"\n",
    "t.fit_on_texts([fit_text])\n",
    "\n",
    "test_text = \"The earth is an great place live\"\n",
    "sequences = t.texts_to_sequences([test_text])[0]\n",
    "\n",
    "print(\"sequences: \", sequences) # great는 단어 집합에 없으므로 출력되지 않음\n",
    "print(\"word_index: \", t.word_index) # 단어 집합 출력"
   ]
  },
  {
   "cell_type": "code",
   "execution_count": 10,
   "id": "50c7ce83",
   "metadata": {},
   "outputs": [
    {
     "data": {
      "text/plain": [
       "array([[1, 2, 3],\n",
       "       [4, 5, 6],\n",
       "       [0, 7, 8]], dtype=int32)"
      ]
     },
     "execution_count": 10,
     "metadata": {},
     "output_type": "execute_result"
    }
   ],
   "source": [
    "# pad_sequences(): 패딩; 정해준 길이보다 길이가 길면 일부를 자르고, 짧으면 값을 0으로 채움\n",
    "from tensorflow.keras.preprocessing.sequence import pad_sequences\n",
    "pad_sequences([[1,2,3],[3,4,5,6],[7,8]], maxlen=3, padding='pre') #post면 뒤에 패딩"
   ]
  },
  {
   "cell_type": "markdown",
   "id": "73048fd7",
   "metadata": {},
   "source": [
    "## 2. 워드 임베딩(Word Embedding)\n",
    "단어를 밀집 벡터로 만드는 작업. (밀집벡터: 대부분의 값이 실수이고, 상대적으로 저차원)"
   ]
  },
  {
   "cell_type": "code",
   "execution_count": 1,
   "id": "a3b6df28",
   "metadata": {},
   "outputs": [],
   "source": [
    "# Embedding(): 단어를 밀집 벡터로 만듦. 정수 인코딩이 된 단어들을 입력을 받아 임베딩을 수행.\n",
    "# 입력: 2D 정수 텐서 (number of samples, input_length) \n",
    "# 출력: 3D 텐서 (number of samples, input_length, embedding word dimensionality)"
   ]
  },
  {
   "cell_type": "raw",
   "id": "bd5e4049",
   "metadata": {},
   "source": [
    "# 문장 토큰화와 단어 토큰화\n",
    "text=[['Hope', 'to', 'see', 'you', 'soon'],['Nice', 'to', 'see', 'you', 'again']]\n",
    "\n",
    "# 각 단어에 대한 정수 인코딩\n",
    "text=[[0, 1, 2, 3, 4],[5, 1, 2, 3, 6]]\n",
    "\n",
    "# 위 데이터가 아래의 임베딩 층의 입력이 된다.\n",
    "Embedding(7, 2, input_length=5)\n",
    "# 7은 단어의 개수. 즉, 단어 집합(vocabulary)의 크기이다.\n",
    "# 2는 임베딩한 후의 벡터의 크기이다.\n",
    "# 5는 각 입력 시퀀스의 길이. 즉, input_length이다.\n",
    "\n",
    "# 각 정수는 아래의 테이블의 인덱스로 사용되며 Embedding()은 각 단어에 대해 임베딩 벡터를 리턴한다.\n",
    "+------------+------------+\n",
    "|   index    | embedding  |\n",
    "+------------+------------+\n",
    "|     0      | [1.2, 3.1] |\n",
    "|     1      | [0.1, 4.2] |\n",
    "|     2      | [1.0, 3.1] |\n",
    "|     3      | [0.3, 2.1] |\n",
    "|     4      | [2.2, 1.4] |\n",
    "|     5      | [0.7, 1.7] |\n",
    "|     6      | [4.1, 2.0] |\n",
    "+------------+------------+\n",
    "# 위의 표는 임베딩 벡터가 된 결과를 예로서 정리한 것이고 Embedding()의 출력인 3D 텐서를 보여주는 것이 아님."
   ]
  },
  {
   "cell_type": "markdown",
   "id": "9aa859b0",
   "metadata": {},
   "source": [
    "## 3. 모델링(Modeling)"
   ]
  },
  {
   "cell_type": "code",
   "execution_count": 2,
   "id": "9e25c62c",
   "metadata": {},
   "outputs": [],
   "source": [
    "# Sequential(): Sequential()을 model로 선언한 뒤, model.add()로 인공신경망 층을 단계적으로 추가.\n",
    "from tensorflow.keras.models import Sequential\n",
    "\n",
    "model = Sequential()\n",
    "model.add(...) # 층추가\n",
    "model.add(...) # 층추가\n",
    "model.add(...) # 층추가"
   ]
  },
  {
   "cell_type": "code",
   "execution_count": 4,
   "id": "f34bb5be",
   "metadata": {},
   "outputs": [],
   "source": [
    "from tensorflow.keras.layers import Embedding\n",
    "\n",
    "model = Sequential()\n",
    "model.add(Embedding(vocabulary, out_dim, input_length))"
   ]
  },
  {
   "cell_type": "code",
   "execution_count": 5,
   "id": "892b2595",
   "metadata": {},
   "outputs": [],
   "source": [
    "# Dense(): 전결합층(Fully-connected layer) 추가.\n",
    "from tensorflow.keras.models import Sequential\n",
    "from tensorflow.keras.layers import Dense\n",
    "\n",
    "model = Sequential()\n",
    "model.add(Dense(1, input_dim=3, activation='relu'))"
   ]
  },
  {
   "cell_type": "markdown",
   "id": "3fa732ec",
   "metadata": {},
   "source": [
    "## 4. 컴파일(Compile)과 훈련(Training)"
   ]
  },
  {
   "cell_type": "code",
   "execution_count": 7,
   "id": "ff20d1bd",
   "metadata": {},
   "outputs": [],
   "source": [
    "# compile(): 모델을 기계가 이해할 수 있도록 컴파일. 오차 함수, 최적화 방법, 매트릭 함수 선택 가능.\n",
    "from tensorflow.keras.layers import SimpleRNN, Embedding, Dense\n",
    "from tensorflow.keras.models import Sequential\n",
    "max_features = 10000\n",
    "\n",
    "model = Sequential()\n",
    "model.add(Embedding(max_features, 32))\n",
    "model.add(SimpleRNN(32))\n",
    "model.add(Dense(1, activation='sigmoid'))\n",
    "model.add(compile(optimizer='rmsprop', loss='binary_crossentropy', metrics=['acc']))"
   ]
  },
  {
   "cell_type": "code",
   "execution_count": null,
   "id": "831a7731",
   "metadata": {},
   "outputs": [],
   "source": [
    "'''\n",
    "    회귀 문제(Regression): mse\n",
    "    다중 클래스 분류(multi-class): categorical_crossentropy & softmax\n",
    "    다중 클래스 분류(multi-class): sparse_categorical_crossentropy & softmax (정수 인코딩 상태에서 수행 가능)\n",
    "    이진 분류(binary): binary_crossentropy & sigmoid\n",
    "'''"
   ]
  },
  {
   "cell_type": "code",
   "execution_count": null,
   "id": "29fbca74",
   "metadata": {},
   "outputs": [],
   "source": [
    "# fit(): 모델 학습. 모델이 오차로부터 매개 변수를 업데이트 시키는 과정. \n",
    "model.fit(X_train, y_train, epochs=10, batch_size=32, validation_data(x_val, y_val), verbose=1)\n",
    "'''\n",
    "    verbose = 학습 중 출력되는 문구\n",
    "    0: 출력X\n",
    "    1: 훈련의 진행도를 보여주는 진행 막대 출력\n",
    "    2: 미니 배치마다의 손실 정보 출력\n",
    "'''"
   ]
  },
  {
   "cell_type": "markdown",
   "id": "cd02195e",
   "metadata": {},
   "source": [
    "## 5. 평가(Evaluation)와 예측(Prediction)"
   ]
  },
  {
   "cell_type": "code",
   "execution_count": 8,
   "id": "33411eee",
   "metadata": {},
   "outputs": [],
   "source": [
    "# evaluate(): 테스트 데이터를 통해 학습한 모델에 대한 정확도 평가.\n",
    "model.evaluate(X_test, y_test, batch_size=32)"
   ]
  },
  {
   "cell_type": "code",
   "execution_count": null,
   "id": "24bbc31e",
   "metadata": {},
   "outputs": [],
   "source": [
    "# predict(): 임의의 입력에 대한 모델의 출력값 확인\n",
    "model.predict(X_input, batch_size=32)"
   ]
  },
  {
   "cell_type": "markdown",
   "id": "add6511f",
   "metadata": {},
   "source": [
    "## 6. 모델의 저장(Save)과 로드(load)"
   ]
  },
  {
   "cell_type": "code",
   "execution_count": null,
   "id": "eed3d133",
   "metadata": {},
   "outputs": [],
   "source": [
    "# save(): 인공 신경망 모델을 hdf5 파일에 저장\n",
    "model.save('model_name.h5')"
   ]
  },
  {
   "cell_type": "code",
   "execution_count": null,
   "id": "77958b68",
   "metadata": {},
   "outputs": [],
   "source": [
    "# load_model(): 저장해둔 모델 로드\n",
    "from tensorflow.keras.models import load_model\n",
    "model = load_model('model_name.h5')"
   ]
  }
 ],
 "metadata": {
  "kernelspec": {
   "display_name": "Python 3",
   "language": "python",
   "name": "python3"
  },
  "language_info": {
   "codemirror_mode": {
    "name": "ipython",
    "version": 3
   },
   "file_extension": ".py",
   "mimetype": "text/x-python",
   "name": "python",
   "nbconvert_exporter": "python",
   "pygments_lexer": "ipython3",
   "version": "3.8.8"
  }
 },
 "nbformat": 4,
 "nbformat_minor": 5
}
