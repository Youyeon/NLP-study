{
 "cells": [
  {
   "cell_type": "markdown",
   "id": "d7377ccb",
   "metadata": {},
   "source": [
    "# 코사인 유사도(Cosine Similarity)"
   ]
  },
  {
   "cell_type": "code",
   "execution_count": 1,
   "id": "4f265137",
   "metadata": {},
   "outputs": [],
   "source": [
    "from numpy import dot\n",
    "from numpy.linalg import norm\n",
    "import numpy as np\n",
    "\n",
    "def cos_sim(A, B):\n",
    "    return dot(A,B)/(norm(A)*norm(B))"
   ]
  },
  {
   "cell_type": "code",
   "execution_count": 4,
   "id": "d8d38a29",
   "metadata": {},
   "outputs": [
    {
     "name": "stdout",
     "output_type": "stream",
     "text": [
      "0.6666666666666667\n",
      "0.6666666666666667\n",
      "1.0000000000000002\n"
     ]
    }
   ],
   "source": [
    "# BoW\n",
    "doc1 = np.array([0,1,1,1])\n",
    "doc2 = np.array([1,0,1,1])\n",
    "doc3 = np.array([2,0,2,2])\n",
    "\n",
    "print(cos_sim(doc1, doc2))\n",
    "print(cos_sim(doc1, doc3))\n",
    "print(cos_sim(doc2, doc3))"
   ]
  },
  {
   "cell_type": "code",
   "execution_count": null,
   "id": "b5cc795f",
   "metadata": {},
   "outputs": [],
   "source": [
    "'''\n",
    "    한 문서 내의 모든 단어의 빈도수가 동일하게 증가하는 경우, 기존의 문서와 코사인 유사도의 값은 1이다.\n",
    "    문서의 길이가 다른 상황에서 비교적 공정한 비교를 할 수 있도록 해주는 역할.\n",
    "    코사인 유사도 ------ 벡터의 크기가 아니라 벡터의 방향에 초점을 둚.\n",
    "'''"
   ]
  }
 ],
 "metadata": {
  "kernelspec": {
   "display_name": "Python 3",
   "language": "python",
   "name": "python3"
  },
  "language_info": {
   "codemirror_mode": {
    "name": "ipython",
    "version": 3
   },
   "file_extension": ".py",
   "mimetype": "text/x-python",
   "name": "python",
   "nbconvert_exporter": "python",
   "pygments_lexer": "ipython3",
   "version": "3.8.8"
  }
 },
 "nbformat": 4,
 "nbformat_minor": 5
}
