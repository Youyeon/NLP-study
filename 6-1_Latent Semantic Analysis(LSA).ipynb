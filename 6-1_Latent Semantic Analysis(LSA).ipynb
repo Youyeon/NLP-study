{
 "cells": [
  {
   "cell_type": "markdown",
   "id": "97bf59c9",
   "metadata": {},
   "source": [
    "# 잠재 의미 분석(Latent Semantic Analysis, LSA)"
   ]
  },
  {
   "cell_type": "markdown",
   "id": "a243f923",
   "metadata": {},
   "source": [
    "## 특이값 분해(Singular Value Decomposition, SVD)\n",
    "$$A=UΣV^\\text{T} \\ where \\ A=M_{mn}$$ $$U=AA^\\text{T}(\\text{2x2}),Σ=\\text{2x3}, V^\\text{T}=A^\\text{T}A(\\text{3x3})$$"
   ]
  },
  {
   "cell_type": "markdown",
   "id": "cedaa8a2",
   "metadata": {},
   "source": [
    "## 절단된 SVD(Truncated SVD)\n",
    "일부 벡터를 삭제함 (=데이터의 차원을 줄임)\n",
    "상대적으로 중요하지 않은 정보를 삭제함 <br>\n",
    "-> 영상 처리: 노이즈 제거 / 자연어 처리: 설명력이 낮은 정보를 삭제하고 설명력이 높은 정보를 남김"
   ]
  },
  {
   "cell_type": "markdown",
   "id": "a15aa251",
   "metadata": {},
   "source": [
    "대각 행렬 Σ의 대각 원소 값 중 상위 t개만 남김.<br>\n",
    "U, V의 t열까지만 남김<br>\n",
    "t: 찾고자하는 토픽의 수를 반영한 하이퍼파라미터 값."
   ]
  },
  {
   "cell_type": "markdown",
   "id": "88a299d5",
   "metadata": {},
   "source": [
    "## Full SVD"
   ]
  },
  {
   "cell_type": "code",
   "execution_count": 3,
   "id": "60c3f049",
   "metadata": {},
   "outputs": [
    {
     "data": {
      "text/plain": [
       "(4, 9)"
      ]
     },
     "execution_count": 3,
     "metadata": {},
     "output_type": "execute_result"
    }
   ],
   "source": [
    "import numpy as np\n",
    "A=np.array([[0,0,0,1,0,1,1,0,0],\n",
    "            [0,0,0,1,1,0,1,0,0],\n",
    "            [0,1,1,0,2,0,0,0,0],\n",
    "            [1,0,0,0,0,0,0,1,1]]) # 과일이 / 길고 / 노란 / 먹고 / 바나나 / 사과 / 싶은 / 저는 / 좋아요\n",
    "np.shape(A)"
   ]
  },
  {
   "cell_type": "code",
   "execution_count": 6,
   "id": "f3db978f",
   "metadata": {},
   "outputs": [
    {
     "name": "stdout",
     "output_type": "stream",
     "text": [
      "[[-0.24  0.75  0.   -0.62]\n",
      " [-0.51  0.44 -0.    0.74]\n",
      " [-0.83 -0.49 -0.   -0.27]\n",
      " [-0.   -0.    1.    0.  ]]\n",
      "(4, 4)\n",
      "\n",
      "\n",
      "[2.69 2.05 1.73 0.77]\n",
      "(4,)\n",
      "\n",
      "\n",
      "[[-0.   -0.31 -0.31 -0.28 -0.8  -0.09 -0.28 -0.   -0.  ]\n",
      " [ 0.   -0.24 -0.24  0.58 -0.26  0.37  0.58 -0.   -0.  ]\n",
      " [ 0.58 -0.    0.    0.   -0.    0.   -0.    0.58  0.58]\n",
      " [ 0.   -0.35 -0.35  0.16  0.25 -0.8   0.16 -0.   -0.  ]\n",
      " [-0.   -0.78 -0.01 -0.2   0.4   0.4  -0.2   0.    0.  ]\n",
      " [-0.29  0.31 -0.78 -0.24  0.23  0.23  0.01  0.14  0.14]\n",
      " [-0.29 -0.1   0.26 -0.59 -0.08 -0.08  0.66  0.14  0.14]\n",
      " [-0.5  -0.06  0.15  0.24 -0.05 -0.05 -0.19  0.75 -0.25]\n",
      " [-0.5  -0.06  0.15  0.24 -0.05 -0.05 -0.19 -0.25  0.75]]\n",
      "(9, 9)\n"
     ]
    }
   ],
   "source": [
    "U, s, VT = np.linalg.svd(A, full_matrices=True)\n",
    "print(U.round(2))\n",
    "print(np.shape(U))\n",
    "print('\\n')\n",
    "print(s.round(2))\n",
    "print(np.shape(s))\n",
    "print('\\n')\n",
    "print(VT.round(2))\n",
    "print(np.shape(VT))"
   ]
  },
  {
   "cell_type": "code",
   "execution_count": null,
   "id": "2a22ed51",
   "metadata": {},
   "outputs": [],
   "source": [
    "'''\n",
    "    Numpy의 linalg.svd(): 특이값 분해의 결과로 특이값의 리스트를 반환함 (대각행렬X)\n",
    "    따라서 S를 대각행렬로 변환해주어야 함.\n",
    "'''"
   ]
  },
  {
   "cell_type": "code",
   "execution_count": 7,
   "id": "02cd8b20",
   "metadata": {},
   "outputs": [
    {
     "name": "stdout",
     "output_type": "stream",
     "text": [
      "[[2.69 0.   0.   0.   0.   0.   0.   0.   0.  ]\n",
      " [0.   2.05 0.   0.   0.   0.   0.   0.   0.  ]\n",
      " [0.   0.   1.73 0.   0.   0.   0.   0.   0.  ]\n",
      " [0.   0.   0.   0.77 0.   0.   0.   0.   0.  ]]\n",
      "(4, 9)\n"
     ]
    }
   ],
   "source": [
    "S = np.zeros((4, 9))\n",
    "S[:4, :4] = np.diag(s) # np.diag: 대각행렬 생성 함수\n",
    "print(S.round(2))\n",
    "print(np.shape(S))"
   ]
  },
  {
   "cell_type": "code",
   "execution_count": 9,
   "id": "7725b436",
   "metadata": {},
   "outputs": [
    {
     "data": {
      "text/plain": [
       "True"
      ]
     },
     "execution_count": 9,
     "metadata": {},
     "output_type": "execute_result"
    }
   ],
   "source": [
    "# U x S x VT = A 확인\n",
    "np.allclose(A, np.dot(U, np.dot(S, VT)).round(2))"
   ]
  },
  {
   "cell_type": "markdown",
   "id": "8d3d7064",
   "metadata": {},
   "source": [
    "## Truncated SVD"
   ]
  },
  {
   "cell_type": "code",
   "execution_count": 11,
   "id": "2bd1346c",
   "metadata": {},
   "outputs": [
    {
     "name": "stdout",
     "output_type": "stream",
     "text": [
      "[[2.69 0.  ]\n",
      " [0.   2.05]]\n",
      "\n",
      "\n",
      "[[-0.24  0.75]\n",
      " [-0.51  0.44]\n",
      " [-0.83 -0.49]\n",
      " [-0.   -0.  ]]\n",
      "\n",
      "\n",
      "[[-0.   -0.31 -0.31 -0.28 -0.8  -0.09 -0.28 -0.   -0.  ]\n",
      " [ 0.   -0.24 -0.24  0.58 -0.26  0.37  0.58 -0.   -0.  ]]\n"
     ]
    }
   ],
   "source": [
    "S = S[:2, :2]\n",
    "print(S.round(2))\n",
    "print('\\n')\n",
    "\n",
    "U = U[:, :2]\n",
    "print(U.round(2))\n",
    "print('\\n')\n",
    "\n",
    "VT = VT[:2, :]\n",
    "print(VT.round(2))"
   ]
  },
  {
   "cell_type": "code",
   "execution_count": 12,
   "id": "9dbd9d4d",
   "metadata": {},
   "outputs": [
    {
     "name": "stdout",
     "output_type": "stream",
     "text": [
      "[[0 0 0 1 0 1 1 0 0]\n",
      " [0 0 0 1 1 0 1 0 0]\n",
      " [0 1 1 0 2 0 0 0 0]\n",
      " [1 0 0 0 0 0 0 1 1]]\n",
      "[[ 0.   -0.17 -0.17  1.08  0.12  0.62  1.08 -0.   -0.  ]\n",
      " [ 0.    0.2   0.2   0.91  0.86  0.45  0.91  0.    0.  ]\n",
      " [ 0.    0.93  0.93  0.03  2.05 -0.17  0.03  0.    0.  ]\n",
      " [ 0.    0.    0.    0.    0.   -0.    0.    0.    0.  ]]\n"
     ]
    }
   ],
   "source": [
    "# Truncated SVD는 U x S x VT != A임.\n",
    "A_prime = np.dot(np.dot(U, S), VT)\n",
    "print(A)\n",
    "print(A_prime.round(2))"
   ]
  },
  {
   "cell_type": "code",
   "execution_count": null,
   "id": "9f33a594",
   "metadata": {},
   "outputs": [],
   "source": [
    "'''\n",
    "    U: 4x2 size\n",
    "        문서의 개수 x 토픽의 수 t와 동일함.\n",
    "        단어의 개수인 9는 유지되지 않으나 문서의 개수인 4의 크기가 유지되었으니 4개 문서 각각을 2개의 값으로 표현한 것.\n",
    "        즉, U의 각 행은 잠재 의미를 표현하기 위한 수치화된 각각의 문서 벡터로 볼 수 있음.\n",
    "    VT: 2x9 size\n",
    "        토픽의 수 t x 단어의 개수의 크기와 동일함.\n",
    "        VT의 각 열은 잠재 의미를 표현하기 위해 수치화된 각각의 단어 벡터로 볼 수 있음.\n",
    "'''"
   ]
  }
 ],
 "metadata": {
  "kernelspec": {
   "display_name": "Python 3",
   "language": "python",
   "name": "python3"
  },
  "language_info": {
   "codemirror_mode": {
    "name": "ipython",
    "version": 3
   },
   "file_extension": ".py",
   "mimetype": "text/x-python",
   "name": "python",
   "nbconvert_exporter": "python",
   "pygments_lexer": "ipython3",
   "version": "3.8.8"
  }
 },
 "nbformat": 4,
 "nbformat_minor": 5
}
