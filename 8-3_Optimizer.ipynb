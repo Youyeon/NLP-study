{
 "cells": [
  {
   "cell_type": "markdown",
   "id": "270e8c88",
   "metadata": {},
   "source": [
    "# 옵티마이저 (Optimizer)"
   ]
  },
  {
   "cell_type": "markdown",
   "id": "35c7995e",
   "metadata": {},
   "source": [
    "## 모멘텀(Momentum)\n",
    "<ul>\n",
    "    <li>모멘텀 경사 하강법에 관성을 더해주는 방법</li>\n",
    "    <li>로컬 미니멈에 도달했을 때, 모멘텀으로 값을 조절해 로컬 미니멈에서 벗어날 수 있다.</li>\n",
    "</ul>"
   ]
  },
  {
   "cell_type": "code",
   "execution_count": null,
   "id": "6f9cc91e",
   "metadata": {},
   "outputs": [],
   "source": [
    "keras.optimizers.SGD(lr=0.01, momentum=0.9)"
   ]
  },
  {
   "cell_type": "markdown",
   "id": "0b052d91",
   "metadata": {},
   "source": [
    "## 아다그라드(Adagrad)\n",
    "<ul>\n",
    "    <li>각 매개변수에 서로 다른 학습률을 적용시키는 옵티마이저.</li>\n",
    "    <li>변화가 많은 매개변수는 학습률이 작게 설정되고, 변화가 적은 매개변수는 학습률을 높게 설정시킨다.</li>\n",
    "    <li>학습이 진행되다보면 학습률이 지나치게 떨어진다는 단점이 있다.</li>\n",
    "</ul>"
   ]
  },
  {
   "cell_type": "code",
   "execution_count": null,
   "id": "db4736d1",
   "metadata": {},
   "outputs": [],
   "source": [
    "keras.optimizers.Adagrad(lr=0.01, epsilon=1e-6)"
   ]
  },
  {
   "cell_type": "markdown",
   "id": "d2d5bae4",
   "metadata": {},
   "source": [
    "## 알엠에스프롭(RMSprop)\n",
    "<ul>\n",
    "    <li>아다그라드 방식의 단점을 개선한 옵티마이저.</li>\n",
    "</ul>"
   ]
  },
  {
   "cell_type": "code",
   "execution_count": null,
   "id": "dcedfbe8",
   "metadata": {},
   "outputs": [],
   "source": [
    "keras.optimizers.RMSprop(lr=0.001, rho=0.9, epsilon=1e-06)"
   ]
  },
  {
   "cell_type": "markdown",
   "id": "102ddfa2",
   "metadata": {},
   "source": [
    "## 아담(Adam)\n",
    "<ul>\n",
    "    <li>아다그라드 방식 + 모멘텀.</li>\n",
    "    <li>방향과 학습률을 모두 잡기 위한 방법.</li>\n",
    "</ul>"
   ]
  },
  {
   "cell_type": "code",
   "execution_count": null,
   "id": "9fd5a5e6",
   "metadata": {},
   "outputs": [],
   "source": [
    "keras.optimizers.Adam(lr=0.001, beta_1=0.9, beta_2=0.999, epsilon=None, decay=0.0, amsgrad=False)"
   ]
  }
 ],
 "metadata": {
  "kernelspec": {
   "display_name": "Python 3",
   "language": "python",
   "name": "python3"
  },
  "language_info": {
   "codemirror_mode": {
    "name": "ipython",
    "version": 3
   },
   "file_extension": ".py",
   "mimetype": "text/x-python",
   "name": "python",
   "nbconvert_exporter": "python",
   "pygments_lexer": "ipython3",
   "version": "3.8.8"
  }
 },
 "nbformat": 4,
 "nbformat_minor": 5
}
