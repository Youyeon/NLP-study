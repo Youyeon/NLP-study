{
 "cells": [
  {
   "cell_type": "markdown",
   "id": "major-ridge",
   "metadata": {},
   "source": [
    "# 12-4 1D CNN으로 스팸 메일 분류하기"
   ]
  },
  {
   "cell_type": "code",
   "execution_count": 1,
   "id": "figured-occasions",
   "metadata": {},
   "outputs": [],
   "source": [
    "import pandas as pd\n",
    "import matplotlib.pyplot as plt\n",
    "import numpy as np\n",
    "from tensorflow.keras.preprocessing.text import Tokenizer\n",
    "from tensorflow.keras.preprocessing.sequence import pad_sequences"
   ]
  },
  {
   "cell_type": "code",
   "execution_count": 2,
   "id": "current-shareware",
   "metadata": {},
   "outputs": [
    {
     "name": "stdout",
     "output_type": "stream",
     "text": [
      "총 샘플의 수:  5572\n"
     ]
    }
   ],
   "source": [
    "data = pd.read_csv('spam.csv', encoding='latin-1')\n",
    "print('총 샘플의 수: ', len(data))"
   ]
  },
  {
   "cell_type": "code",
   "execution_count": 3,
   "id": "forward-heather",
   "metadata": {},
   "outputs": [
    {
     "data": {
      "text/html": [
       "<div>\n",
       "<style scoped>\n",
       "    .dataframe tbody tr th:only-of-type {\n",
       "        vertical-align: middle;\n",
       "    }\n",
       "\n",
       "    .dataframe tbody tr th {\n",
       "        vertical-align: top;\n",
       "    }\n",
       "\n",
       "    .dataframe thead th {\n",
       "        text-align: right;\n",
       "    }\n",
       "</style>\n",
       "<table border=\"1\" class=\"dataframe\">\n",
       "  <thead>\n",
       "    <tr style=\"text-align: right;\">\n",
       "      <th></th>\n",
       "      <th>v1</th>\n",
       "      <th>v2</th>\n",
       "      <th>Unnamed: 2</th>\n",
       "      <th>Unnamed: 3</th>\n",
       "      <th>Unnamed: 4</th>\n",
       "    </tr>\n",
       "  </thead>\n",
       "  <tbody>\n",
       "    <tr>\n",
       "      <th>0</th>\n",
       "      <td>ham</td>\n",
       "      <td>Go until jurong point, crazy.. Available only ...</td>\n",
       "      <td>NaN</td>\n",
       "      <td>NaN</td>\n",
       "      <td>NaN</td>\n",
       "    </tr>\n",
       "    <tr>\n",
       "      <th>1</th>\n",
       "      <td>ham</td>\n",
       "      <td>Ok lar... Joking wif u oni...</td>\n",
       "      <td>NaN</td>\n",
       "      <td>NaN</td>\n",
       "      <td>NaN</td>\n",
       "    </tr>\n",
       "  </tbody>\n",
       "</table>\n",
       "</div>"
      ],
      "text/plain": [
       "    v1                                                 v2 Unnamed: 2  \\\n",
       "0  ham  Go until jurong point, crazy.. Available only ...        NaN   \n",
       "1  ham                      Ok lar... Joking wif u oni...        NaN   \n",
       "\n",
       "  Unnamed: 3 Unnamed: 4  \n",
       "0        NaN        NaN  \n",
       "1        NaN        NaN  "
      ]
     },
     "execution_count": 3,
     "metadata": {},
     "output_type": "execute_result"
    }
   ],
   "source": [
    "data[:2]"
   ]
  },
  {
   "cell_type": "code",
   "execution_count": 4,
   "id": "expensive-improvement",
   "metadata": {},
   "outputs": [
    {
     "data": {
      "text/html": [
       "<div>\n",
       "<style scoped>\n",
       "    .dataframe tbody tr th:only-of-type {\n",
       "        vertical-align: middle;\n",
       "    }\n",
       "\n",
       "    .dataframe tbody tr th {\n",
       "        vertical-align: top;\n",
       "    }\n",
       "\n",
       "    .dataframe thead th {\n",
       "        text-align: right;\n",
       "    }\n",
       "</style>\n",
       "<table border=\"1\" class=\"dataframe\">\n",
       "  <thead>\n",
       "    <tr style=\"text-align: right;\">\n",
       "      <th></th>\n",
       "      <th>v1</th>\n",
       "      <th>v2</th>\n",
       "    </tr>\n",
       "  </thead>\n",
       "  <tbody>\n",
       "    <tr>\n",
       "      <th>0</th>\n",
       "      <td>ham</td>\n",
       "      <td>Go until jurong point, crazy.. Available only ...</td>\n",
       "    </tr>\n",
       "    <tr>\n",
       "      <th>1</th>\n",
       "      <td>ham</td>\n",
       "      <td>Ok lar... Joking wif u oni...</td>\n",
       "    </tr>\n",
       "    <tr>\n",
       "      <th>2</th>\n",
       "      <td>spam</td>\n",
       "      <td>Free entry in 2 a wkly comp to win FA Cup fina...</td>\n",
       "    </tr>\n",
       "    <tr>\n",
       "      <th>3</th>\n",
       "      <td>ham</td>\n",
       "      <td>U dun say so early hor... U c already then say...</td>\n",
       "    </tr>\n",
       "    <tr>\n",
       "      <th>4</th>\n",
       "      <td>ham</td>\n",
       "      <td>Nah I don't think he goes to usf, he lives aro...</td>\n",
       "    </tr>\n",
       "    <tr>\n",
       "      <th>...</th>\n",
       "      <td>...</td>\n",
       "      <td>...</td>\n",
       "    </tr>\n",
       "    <tr>\n",
       "      <th>5567</th>\n",
       "      <td>spam</td>\n",
       "      <td>This is the 2nd time we have tried 2 contact u...</td>\n",
       "    </tr>\n",
       "    <tr>\n",
       "      <th>5568</th>\n",
       "      <td>ham</td>\n",
       "      <td>Will Ì_ b going to esplanade fr home?</td>\n",
       "    </tr>\n",
       "    <tr>\n",
       "      <th>5569</th>\n",
       "      <td>ham</td>\n",
       "      <td>Pity, * was in mood for that. So...any other s...</td>\n",
       "    </tr>\n",
       "    <tr>\n",
       "      <th>5570</th>\n",
       "      <td>ham</td>\n",
       "      <td>The guy did some bitching but I acted like i'd...</td>\n",
       "    </tr>\n",
       "    <tr>\n",
       "      <th>5571</th>\n",
       "      <td>ham</td>\n",
       "      <td>Rofl. Its true to its name</td>\n",
       "    </tr>\n",
       "  </tbody>\n",
       "</table>\n",
       "<p>5572 rows × 2 columns</p>\n",
       "</div>"
      ],
      "text/plain": [
       "        v1                                                 v2\n",
       "0      ham  Go until jurong point, crazy.. Available only ...\n",
       "1      ham                      Ok lar... Joking wif u oni...\n",
       "2     spam  Free entry in 2 a wkly comp to win FA Cup fina...\n",
       "3      ham  U dun say so early hor... U c already then say...\n",
       "4      ham  Nah I don't think he goes to usf, he lives aro...\n",
       "...    ...                                                ...\n",
       "5567  spam  This is the 2nd time we have tried 2 contact u...\n",
       "5568   ham              Will Ì_ b going to esplanade fr home?\n",
       "5569   ham  Pity, * was in mood for that. So...any other s...\n",
       "5570   ham  The guy did some bitching but I acted like i'd...\n",
       "5571   ham                         Rofl. Its true to its name\n",
       "\n",
       "[5572 rows x 2 columns]"
      ]
     },
     "execution_count": 4,
     "metadata": {},
     "output_type": "execute_result"
    }
   ],
   "source": [
    "data = data[['v1','v2']] # 불필요한 열 제거\n",
    "data"
   ]
  },
  {
   "cell_type": "code",
   "execution_count": 5,
   "id": "developmental-herald",
   "metadata": {},
   "outputs": [
    {
     "data": {
      "text/html": [
       "<div>\n",
       "<style scoped>\n",
       "    .dataframe tbody tr th:only-of-type {\n",
       "        vertical-align: middle;\n",
       "    }\n",
       "\n",
       "    .dataframe tbody tr th {\n",
       "        vertical-align: top;\n",
       "    }\n",
       "\n",
       "    .dataframe thead th {\n",
       "        text-align: right;\n",
       "    }\n",
       "</style>\n",
       "<table border=\"1\" class=\"dataframe\">\n",
       "  <thead>\n",
       "    <tr style=\"text-align: right;\">\n",
       "      <th></th>\n",
       "      <th>v1</th>\n",
       "      <th>v2</th>\n",
       "    </tr>\n",
       "  </thead>\n",
       "  <tbody>\n",
       "    <tr>\n",
       "      <th>0</th>\n",
       "      <td>0</td>\n",
       "      <td>Go until jurong point, crazy.. Available only ...</td>\n",
       "    </tr>\n",
       "    <tr>\n",
       "      <th>1</th>\n",
       "      <td>0</td>\n",
       "      <td>Ok lar... Joking wif u oni...</td>\n",
       "    </tr>\n",
       "  </tbody>\n",
       "</table>\n",
       "</div>"
      ],
      "text/plain": [
       "   v1                                                 v2\n",
       "0   0  Go until jurong point, crazy.. Available only ...\n",
       "1   0                      Ok lar... Joking wif u oni..."
      ]
     },
     "execution_count": 5,
     "metadata": {},
     "output_type": "execute_result"
    }
   ],
   "source": [
    "data['v1'] = data['v1'].replace(['ham','spam'], [0,1])\n",
    "data[:2]"
   ]
  },
  {
   "cell_type": "code",
   "execution_count": 6,
   "id": "quality-disposition",
   "metadata": {},
   "outputs": [
    {
     "data": {
      "text/plain": [
       "403"
      ]
     },
     "execution_count": 6,
     "metadata": {},
     "output_type": "execute_result"
    }
   ],
   "source": [
    "data[['v2']].duplicated().sum() # 중복 샘플 403개"
   ]
  },
  {
   "cell_type": "code",
   "execution_count": 7,
   "id": "pleasant-coffee",
   "metadata": {},
   "outputs": [
    {
     "name": "stdout",
     "output_type": "stream",
     "text": [
      "총 샘플의 수:  5169\n"
     ]
    }
   ],
   "source": [
    "data.drop_duplicates(subset=['v2'], inplace=True)\n",
    "print('총 샘플의 수: ', len(data))"
   ]
  },
  {
   "cell_type": "code",
   "execution_count": 8,
   "id": "broad-purple",
   "metadata": {},
   "outputs": [
    {
     "data": {
      "text/html": [
       "<div>\n",
       "<style scoped>\n",
       "    .dataframe tbody tr th:only-of-type {\n",
       "        vertical-align: middle;\n",
       "    }\n",
       "\n",
       "    .dataframe tbody tr th {\n",
       "        vertical-align: top;\n",
       "    }\n",
       "\n",
       "    .dataframe thead th {\n",
       "        text-align: right;\n",
       "    }\n",
       "</style>\n",
       "<table border=\"1\" class=\"dataframe\">\n",
       "  <thead>\n",
       "    <tr style=\"text-align: right;\">\n",
       "      <th></th>\n",
       "      <th>v1</th>\n",
       "      <th>count</th>\n",
       "    </tr>\n",
       "  </thead>\n",
       "  <tbody>\n",
       "    <tr>\n",
       "      <th>0</th>\n",
       "      <td>0</td>\n",
       "      <td>4516</td>\n",
       "    </tr>\n",
       "    <tr>\n",
       "      <th>1</th>\n",
       "      <td>1</td>\n",
       "      <td>653</td>\n",
       "    </tr>\n",
       "  </tbody>\n",
       "</table>\n",
       "</div>"
      ],
      "text/plain": [
       "   v1  count\n",
       "0   0   4516\n",
       "1   1    653"
      ]
     },
     "execution_count": 8,
     "metadata": {},
     "output_type": "execute_result"
    }
   ],
   "source": [
    "data.groupby('v1').size().reset_index(name='count') # 정상메일 4516개 스팸메일 653개"
   ]
  },
  {
   "cell_type": "code",
   "execution_count": 9,
   "id": "basic-contrast",
   "metadata": {},
   "outputs": [],
   "source": [
    "X_data = data['v2']\n",
    "y_data = data['v1']"
   ]
  },
  {
   "cell_type": "code",
   "execution_count": 10,
   "id": "orange-employer",
   "metadata": {},
   "outputs": [
    {
     "data": {
      "text/plain": [
       "[[47, 433, 780, 705, 662, 64, 8, 94, 121, 434, 142, 68, 57, 137],\n",
       " [49, 306, 435, 6]]"
      ]
     },
     "execution_count": 10,
     "metadata": {},
     "output_type": "execute_result"
    }
   ],
   "source": [
    "vocab_size = 1000\n",
    "tokenizer = Tokenizer(num_words=vocab_size)\n",
    "tokenizer.fit_on_texts(X_data) # 토큰화\n",
    "sequences = tokenizer.texts_to_sequences(X_data) # 단어를 인덱스로 변환\n",
    "\n",
    "sequences[:2]"
   ]
  },
  {
   "cell_type": "code",
   "execution_count": 11,
   "id": "hearing-storm",
   "metadata": {},
   "outputs": [
    {
     "name": "stdout",
     "output_type": "stream",
     "text": [
      "172\n",
      "훈련 데이터의 크기:  (5169, 172)\n"
     ]
    }
   ],
   "source": [
    "X_data = sequences\n",
    "max_len = max(len(l) for l in X_data) # 가장 긴 메일의 길이\n",
    "print(max_len)\n",
    "data = pad_sequences(X_data, maxlen=max_len)\n",
    "print('훈련 데이터의 크기: ', data.shape)"
   ]
  },
  {
   "cell_type": "code",
   "execution_count": 12,
   "id": "interstate-ghost",
   "metadata": {},
   "outputs": [
    {
     "name": "stdout",
     "output_type": "stream",
     "text": [
      "훈련용 이메일 데이터의 크기(shape):  (4135, 172)\n",
      "테스트용 이메일 데이터의 크기(shape):  (1034, 172)\n",
      "훈련용 레이블의 크기(shape):  (4135,)\n",
      "테스트용 레이블의 크기(shape):  (1034,)\n"
     ]
    }
   ],
   "source": [
    "# 데이터 분리\n",
    "n_of_train = int(len(sequences) * 0.8)\n",
    "n_of_test = int(len(sequences) - n_of_train)\n",
    "X_test = data[n_of_train:] #X_data 데이터 중에서 뒤의 1034개의 데이터만 저장\n",
    "y_test = np.array(y_data[n_of_train:]) #y_data 데이터 중에서 뒤의 1034개의 데이터만 저장\n",
    "X_train = data[:n_of_train] #X_data 데이터 중에서 앞의 4135개의 데이터만 저장\n",
    "y_train = np.array(y_data[:n_of_train]) #y_data 데이터 중에서 앞의 4135개의 데이터만 저장\n",
    "print(\"훈련용 이메일 데이터의 크기(shape): \", X_train.shape)\n",
    "print(\"테스트용 이메일 데이터의 크기(shape): \", X_test.shape)\n",
    "print(\"훈련용 레이블의 크기(shape): \", y_train.shape)\n",
    "print(\"테스트용 레이블의 크기(shape): \", y_test.shape)"
   ]
  },
  {
   "cell_type": "markdown",
   "id": "specific-cliff",
   "metadata": {},
   "source": [
    "## 1D CNN으로 스팸 메일 분류하기"
   ]
  },
  {
   "cell_type": "code",
   "execution_count": 13,
   "id": "professional-state",
   "metadata": {},
   "outputs": [],
   "source": [
    "from tensorflow.keras.layers import Dense, Conv1D, GlobalMaxPooling1D, Embedding, Dropout, MaxPooling1D\n",
    "from tensorflow.keras.models import Sequential\n",
    "from tensorflow.keras.callbacks import EarlyStopping, ModelCheckpoint"
   ]
  },
  {
   "cell_type": "code",
   "execution_count": 14,
   "id": "behavioral-baptist",
   "metadata": {},
   "outputs": [
    {
     "name": "stdout",
     "output_type": "stream",
     "text": [
      "Model: \"sequential\"\n",
      "_________________________________________________________________\n",
      "Layer (type)                 Output Shape              Param #   \n",
      "=================================================================\n",
      "embedding (Embedding)        (None, None, 32)          32000     \n",
      "_________________________________________________________________\n",
      "dropout (Dropout)            (None, None, 32)          0         \n",
      "_________________________________________________________________\n",
      "conv1d (Conv1D)              (None, None, 32)          5152      \n",
      "_________________________________________________________________\n",
      "global_max_pooling1d (Global (None, 32)                0         \n",
      "_________________________________________________________________\n",
      "dense (Dense)                (None, 64)                2112      \n",
      "_________________________________________________________________\n",
      "dropout_1 (Dropout)          (None, 64)                0         \n",
      "_________________________________________________________________\n",
      "dense_1 (Dense)              (None, 1)                 65        \n",
      "=================================================================\n",
      "Total params: 39,329\n",
      "Trainable params: 39,329\n",
      "Non-trainable params: 0\n",
      "_________________________________________________________________\n"
     ]
    }
   ],
   "source": [
    "model = Sequential()\n",
    "model.add(Embedding(vocab_size, 32))\n",
    "model.add(Dropout(0.2))\n",
    "model.add(Conv1D(32, 5, strides=1, padding='valid', activation='relu'))\n",
    "model.add(GlobalMaxPooling1D())\n",
    "model.add(Dense(64, activation='relu'))\n",
    "model.add(Dropout(0.2))\n",
    "model.add(Dense(1, activation='sigmoid'))\n",
    "model.summary()\n",
    "model.compile(optimizer='adam', loss='binary_crossentropy', metrics=['acc'])"
   ]
  },
  {
   "cell_type": "code",
   "execution_count": 15,
   "id": "extreme-polish",
   "metadata": {},
   "outputs": [
    {
     "name": "stdout",
     "output_type": "stream",
     "text": [
      "Epoch 1/10\n",
      "52/52 [==============================] - ETA: 0s - loss: 0.4852 - acc: 0.8600\n",
      "Epoch 00001: val_acc improved from -inf to 0.87304, saving model to best_model.h5\n",
      "52/52 [==============================] - 0s 9ms/step - loss: 0.4852 - acc: 0.8600 - val_loss: 0.3876 - val_acc: 0.8730\n",
      "Epoch 2/10\n",
      "41/52 [======================>.......] - ETA: 0s - loss: 0.3934 - acc: 0.8643\n",
      "Epoch 00002: val_acc did not improve from 0.87304\n",
      "52/52 [==============================] - 0s 5ms/step - loss: 0.3810 - acc: 0.8697 - val_loss: 0.3603 - val_acc: 0.8730\n",
      "Epoch 3/10\n",
      "40/52 [======================>.......] - ETA: 0s - loss: 0.3132 - acc: 0.8723\n",
      "Epoch 00003: val_acc improved from 0.87304 to 0.96010, saving model to best_model.h5\n",
      "52/52 [==============================] - 0s 5ms/step - loss: 0.2910 - acc: 0.8758 - val_loss: 0.1716 - val_acc: 0.9601\n",
      "Epoch 4/10\n",
      "40/52 [======================>.......] - ETA: 0s - loss: 0.1076 - acc: 0.9742\n",
      "Epoch 00004: val_acc improved from 0.96010 to 0.97944, saving model to best_model.h5\n",
      "52/52 [==============================] - 0s 5ms/step - loss: 0.0977 - acc: 0.9758 - val_loss: 0.0656 - val_acc: 0.9794\n",
      "Epoch 5/10\n",
      "52/52 [==============================] - ETA: 0s - loss: 0.0491 - acc: 0.9855\n",
      "Epoch 00005: val_acc improved from 0.97944 to 0.98186, saving model to best_model.h5\n",
      "52/52 [==============================] - 0s 5ms/step - loss: 0.0491 - acc: 0.9855 - val_loss: 0.0547 - val_acc: 0.9819\n",
      "Epoch 6/10\n",
      "51/52 [============================>.] - ETA: 0s - loss: 0.0343 - acc: 0.9908\n",
      "Epoch 00006: val_acc did not improve from 0.98186\n",
      "52/52 [==============================] - 0s 5ms/step - loss: 0.0339 - acc: 0.9909 - val_loss: 0.0527 - val_acc: 0.9794\n",
      "Epoch 7/10\n",
      "52/52 [==============================] - ETA: 0s - loss: 0.0215 - acc: 0.9943\n",
      "Epoch 00007: val_acc did not improve from 0.98186\n",
      "52/52 [==============================] - 0s 5ms/step - loss: 0.0215 - acc: 0.9943 - val_loss: 0.0545 - val_acc: 0.9794\n",
      "Epoch 8/10\n",
      "40/52 [======================>.......] - ETA: 0s - loss: 0.0157 - acc: 0.9945\n",
      "Epoch 00008: val_acc did not improve from 0.98186\n",
      "52/52 [==============================] - 0s 5ms/step - loss: 0.0159 - acc: 0.9952 - val_loss: 0.0513 - val_acc: 0.9794\n",
      "Epoch 9/10\n",
      "40/52 [======================>.......] - ETA: 0s - loss: 0.0105 - acc: 0.9977\n",
      "Epoch 00009: val_acc did not improve from 0.98186\n",
      "52/52 [==============================] - 0s 5ms/step - loss: 0.0104 - acc: 0.9976 - val_loss: 0.0533 - val_acc: 0.9782\n",
      "Epoch 10/10\n",
      "41/52 [======================>.......] - ETA: 0s - loss: 0.0067 - acc: 0.9989\n",
      "Epoch 00010: val_acc did not improve from 0.98186\n",
      "52/52 [==============================] - 0s 5ms/step - loss: 0.0072 - acc: 0.9985 - val_loss: 0.0556 - val_acc: 0.9782\n"
     ]
    }
   ],
   "source": [
    "es = EarlyStopping(monitor = 'val_loss', mode = 'min', verbose = 1, patience = 3)\n",
    "mc = ModelCheckpoint('best_model.h5', monitor = 'val_acc', mode = 'max', verbose = 1, save_best_only = True)\n",
    "\n",
    "history = model.fit(X_train, y_train, epochs = 10, batch_size=64, validation_split=0.2, callbacks=[es, mc])"
   ]
  },
  {
   "cell_type": "code",
   "execution_count": 16,
   "id": "fantastic-limitation",
   "metadata": {},
   "outputs": [
    {
     "name": "stdout",
     "output_type": "stream",
     "text": [
      "33/33 [==============================] - 0s 2ms/step - loss: 0.0651 - acc: 0.9836\n",
      "\n",
      " 테스트 정확도: 0.9836\n"
     ]
    }
   ],
   "source": [
    "print(\"\\n 테스트 정확도: %.4f\" % (model.evaluate(X_test, y_test)[1]))"
   ]
  },
  {
   "cell_type": "code",
   "execution_count": null,
   "id": "legal-satin",
   "metadata": {},
   "outputs": [],
   "source": []
  }
 ],
 "metadata": {
  "kernelspec": {
   "display_name": "Python 3",
   "language": "python",
   "name": "python3"
  },
  "language_info": {
   "codemirror_mode": {
    "name": "ipython",
    "version": 3
   },
   "file_extension": ".py",
   "mimetype": "text/x-python",
   "name": "python",
   "nbconvert_exporter": "python",
   "pygments_lexer": "ipython3",
   "version": "3.8.8"
  }
 },
 "nbformat": 4,
 "nbformat_minor": 5
}
