{
 "cells": [
  {
   "cell_type": "markdown",
   "id": "0f63e6b8",
   "metadata": {},
   "source": [
    "# 다층 퍼셉트론(MultiLayer Perceptron, MLP)"
   ]
  },
  {
   "cell_type": "markdown",
   "id": "55d5dcc6",
   "metadata": {},
   "source": [
    "## Keras - texts_to_matrix()"
   ]
  },
  {
   "cell_type": "code",
   "execution_count": 1,
   "id": "ff2dc47e",
   "metadata": {},
   "outputs": [],
   "source": [
    "import numpy as np\n",
    "from tensorflow.keras.preprocessing.text import Tokenizer"
   ]
  },
  {
   "cell_type": "code",
   "execution_count": 2,
   "id": "1c0347bf",
   "metadata": {},
   "outputs": [],
   "source": [
    "texts = ['먹고 싶은 사과', '먹고 싶은 바나나', '길고 노란 바나나 바나나', '저는 과일이 좋아요']"
   ]
  },
  {
   "cell_type": "code",
   "execution_count": 3,
   "id": "967838d7",
   "metadata": {},
   "outputs": [
    {
     "name": "stdout",
     "output_type": "stream",
     "text": [
      "{'바나나': 1, '먹고': 2, '싶은': 3, '사과': 4, '길고': 5, '노란': 6, '저는': 7, '과일이': 8, '좋아요': 9}\n"
     ]
    }
   ],
   "source": [
    "t = Tokenizer()\n",
    "t.fit_on_texts(texts)\n",
    "print(t.word_index)"
   ]
  },
  {
   "cell_type": "code",
   "execution_count": 5,
   "id": "edf1d85e",
   "metadata": {},
   "outputs": [
    {
     "name": "stdout",
     "output_type": "stream",
     "text": [
      "Count Mode:\n",
      " [[0. 0. 1. 1. 1. 0. 0. 0. 0. 0.]\n",
      " [0. 1. 1. 1. 0. 0. 0. 0. 0. 0.]\n",
      " [0. 2. 0. 0. 0. 1. 1. 0. 0. 0.]\n",
      " [0. 0. 0. 0. 0. 0. 0. 1. 1. 1.]]\n",
      "\n",
      "Binary Mode:\n",
      " [[0. 0. 1. 1. 1. 0. 0. 0. 0. 0.]\n",
      " [0. 1. 1. 1. 0. 0. 0. 0. 0. 0.]\n",
      " [0. 1. 0. 0. 0. 1. 1. 0. 0. 0.]\n",
      " [0. 0. 0. 0. 0. 0. 0. 1. 1. 1.]]\n",
      "\n",
      "Tfidf Mode:\n",
      " [[0.         0.         0.84729786 0.84729786 1.09861229 0.\n",
      "  0.         0.         0.         0.        ]\n",
      " [0.         0.84729786 0.84729786 0.84729786 0.         0.\n",
      "  0.         0.         0.         0.        ]\n",
      " [0.         1.43459998 0.         0.         0.         1.09861229\n",
      "  1.09861229 0.         0.         0.        ]\n",
      " [0.         0.         0.         0.         0.         0.\n",
      "  0.         1.09861229 1.09861229 1.09861229]]\n",
      "\n",
      "Freq Mode:\n",
      " [[0.         0.         0.33333333 0.33333333 0.33333333 0.\n",
      "  0.         0.         0.         0.        ]\n",
      " [0.         0.33333333 0.33333333 0.33333333 0.         0.\n",
      "  0.         0.         0.         0.        ]\n",
      " [0.         0.5        0.         0.         0.         0.25\n",
      "  0.25       0.         0.         0.        ]\n",
      " [0.         0.         0.         0.         0.         0.\n",
      "  0.         0.33333333 0.33333333 0.33333333]]\n"
     ]
    }
   ],
   "source": [
    "print('Count Mode:\\n', t.texts_to_matrix(texts, mode = 'count'))\n",
    "print('\\nBinary Mode:\\n', t.texts_to_matrix(texts, mode = 'binary'))\n",
    "print('\\nTfidf Mode:\\n', t.texts_to_matrix(texts, mode = 'tfidf'))\n",
    "print('\\nFreq Mode:\\n', t.texts_to_matrix(texts, mode = 'freq'))"
   ]
  },
  {
   "cell_type": "code",
   "execution_count": null,
   "id": "cce93540",
   "metadata": {},
   "outputs": [],
   "source": [
    "'''\n",
    "    count: 문서 단어 행렬(DTM) 생성. \n",
    "            DTM은 BoW을 기반으로 하므로 단어 순서 정보는 보존되지 않음.\n",
    "            word_index의 인덱스는 1부터 시작, 결과 행렬의 인덱스는 0부터 시작. 따라서 인덱스 0은 모두 0의 값을 가짐.\n",
    "    binary: 단어의 존재 유무로만 행렬을 표현. 존재하면 1, 존재하지 않으면 0.\n",
    "    tfidf: TF-IDF 행렬 생성. (TF-Term Frequency; IDF-Inverse Document Frequency)\n",
    "    freq: 각 문서에서의 각 단어의 등장 빈도\n",
    "'''"
   ]
  },
  {
   "cell_type": "markdown",
   "id": "a21bf95b",
   "metadata": {},
   "source": [
    "## 1. 20개 뉴스 그룹(Twenty Newgroups) 데이터 확인"
   ]
  },
  {
   "cell_type": "code",
   "execution_count": 10,
   "id": "ee4c643e",
   "metadata": {},
   "outputs": [],
   "source": [
    "import pandas as pd\n",
    "from sklearn.datasets import fetch_20newsgroups\n",
    "%matplotlib inline\n",
    "import matplotlib.pyplot as plt\n",
    "from tensorflow.keras.preprocessing.text import Tokenizer\n",
    "from tensorflow.keras.utils import to_categorical"
   ]
  },
  {
   "cell_type": "code",
   "execution_count": 13,
   "id": "d96e782d",
   "metadata": {},
   "outputs": [
    {
     "data": {
      "text/plain": [
       "dict_keys(['data', 'filenames', 'target_names', 'target', 'DESCR'])"
      ]
     },
     "execution_count": 13,
     "metadata": {},
     "output_type": "execute_result"
    }
   ],
   "source": [
    "newsdata = fetch_20newsgroups(subset='train') # 훈련 데이터만 불러오기; all, train, test\n",
    "newsdata.keys() # 데이터의 속성"
   ]
  },
  {
   "cell_type": "code",
   "execution_count": 16,
   "id": "d02ab2bb",
   "metadata": {},
   "outputs": [
    {
     "name": "stdout",
     "output_type": "stream",
     "text": [
      "train data length:  11314\n"
     ]
    }
   ],
   "source": [
    "print('train data length: ', len(newsdata.target))"
   ]
  },
  {
   "cell_type": "code",
   "execution_count": 17,
   "id": "49a14611",
   "metadata": {},
   "outputs": [
    {
     "name": "stdout",
     "output_type": "stream",
     "text": [
      "총 주제의 개수 : 20\n",
      "['alt.atheism', 'comp.graphics', 'comp.os.ms-windows.misc', 'comp.sys.ibm.pc.hardware', 'comp.sys.mac.hardware', 'comp.windows.x', 'misc.forsale', 'rec.autos', 'rec.motorcycles', 'rec.sport.baseball', 'rec.sport.hockey', 'sci.crypt', 'sci.electronics', 'sci.med', 'sci.space', 'soc.religion.christian', 'talk.politics.guns', 'talk.politics.mideast', 'talk.politics.misc', 'talk.religion.misc']\n"
     ]
    }
   ],
   "source": [
    "print('총 주제의 개수 : {}'.format(len(newsdata.target_names)))\n",
    "print(newsdata.target_names)"
   ]
  },
  {
   "cell_type": "markdown",
   "id": "c29b3baa",
   "metadata": {},
   "source": [
    "<b>목적: 테스트 데이터의 이메일 본문을 보고, 20개의 주제 중 어느 주제인지 맞추기</b>"
   ]
  },
  {
   "cell_type": "code",
   "execution_count": 21,
   "id": "68d279e1",
   "metadata": {},
   "outputs": [
    {
     "name": "stdout",
     "output_type": "stream",
     "text": [
      "첫번째 샘플의 레이블: 7, 7번 레이블이 의미하는 주제: rec.autos\n"
     ]
    }
   ],
   "source": [
    "print('첫번째 샘플의 레이블: {}, {}번 레이블이 의미하는 주제: {}'.format(newsdata.target[0], \n",
    "                                                     newsdata.target[0], newsdata.target_names[newsdata.target[0]]))"
   ]
  },
  {
   "cell_type": "code",
   "execution_count": 23,
   "id": "87c60b16",
   "metadata": {},
   "outputs": [
    {
     "name": "stdout",
     "output_type": "stream",
     "text": [
      "From: lerxst@wam.umd.edu (where's my thing)\n",
      "Subject: WHAT car is this!?\n",
      "Nntp-Posting-Host: rac3.wam.umd.edu\n",
      "Organization: University of Maryland, College Park\n",
      "Lines: 15\n",
      "\n",
      " I was wondering if anyone out there could enlighten me on this car I saw\n",
      "the other day. It was a 2-door sports car, looked to be from the late 60s/\n",
      "early 70s. It was called a Bricklin. The doors were really small. In addition,\n",
      "the front bumper was separate from the rest of the body. This is \n",
      "all I know. If anyone can tellme a model name, engine specs, years\n",
      "of production, where this car is made, history, or whatever info you\n",
      "have on this funky looking car, please e-mail.\n",
      "\n",
      "Thanks,\n",
      "- IL\n",
      "   ---- brought to you by your neighborhood Lerxst ----\n",
      "\n",
      "\n",
      "\n",
      "\n",
      "\n"
     ]
    }
   ],
   "source": [
    "# 첫번째 샘플 출력\n",
    "print(newsdata.data[0])"
   ]
  },
  {
   "cell_type": "code",
   "execution_count": 24,
   "id": "f8fdf241",
   "metadata": {},
   "outputs": [
    {
     "data": {
      "text/html": [
       "<div>\n",
       "<style scoped>\n",
       "    .dataframe tbody tr th:only-of-type {\n",
       "        vertical-align: middle;\n",
       "    }\n",
       "\n",
       "    .dataframe tbody tr th {\n",
       "        vertical-align: top;\n",
       "    }\n",
       "\n",
       "    .dataframe thead th {\n",
       "        text-align: right;\n",
       "    }\n",
       "</style>\n",
       "<table border=\"1\" class=\"dataframe\">\n",
       "  <thead>\n",
       "    <tr style=\"text-align: right;\">\n",
       "      <th></th>\n",
       "      <th>email</th>\n",
       "      <th>target</th>\n",
       "    </tr>\n",
       "  </thead>\n",
       "  <tbody>\n",
       "    <tr>\n",
       "      <th>0</th>\n",
       "      <td>From: lerxst@wam.umd.edu (where's my thing)\\nS...</td>\n",
       "      <td>7</td>\n",
       "    </tr>\n",
       "    <tr>\n",
       "      <th>1</th>\n",
       "      <td>From: guykuo@carson.u.washington.edu (Guy Kuo)...</td>\n",
       "      <td>4</td>\n",
       "    </tr>\n",
       "    <tr>\n",
       "      <th>2</th>\n",
       "      <td>From: twillis@ec.ecn.purdue.edu (Thomas E Will...</td>\n",
       "      <td>4</td>\n",
       "    </tr>\n",
       "    <tr>\n",
       "      <th>3</th>\n",
       "      <td>From: jgreen@amber (Joe Green)\\nSubject: Re: W...</td>\n",
       "      <td>1</td>\n",
       "    </tr>\n",
       "    <tr>\n",
       "      <th>4</th>\n",
       "      <td>From: jcm@head-cfa.harvard.edu (Jonathan McDow...</td>\n",
       "      <td>14</td>\n",
       "    </tr>\n",
       "  </tbody>\n",
       "</table>\n",
       "</div>"
      ],
      "text/plain": [
       "                                               email  target\n",
       "0  From: lerxst@wam.umd.edu (where's my thing)\\nS...       7\n",
       "1  From: guykuo@carson.u.washington.edu (Guy Kuo)...       4\n",
       "2  From: twillis@ec.ecn.purdue.edu (Thomas E Will...       4\n",
       "3  From: jgreen@amber (Joe Green)\\nSubject: Re: W...       1\n",
       "4  From: jcm@head-cfa.harvard.edu (Jonathan McDow...      14"
      ]
     },
     "execution_count": 24,
     "metadata": {},
     "output_type": "execute_result"
    }
   ],
   "source": [
    "# 데이터 프레임 생성\n",
    "data = pd.DataFrame(newsdata.data, columns=['email'])\n",
    "data['target'] = pd.Series(newsdata.target)\n",
    "data.head()"
   ]
  },
  {
   "cell_type": "code",
   "execution_count": 25,
   "id": "9e1ea647",
   "metadata": {},
   "outputs": [
    {
     "name": "stdout",
     "output_type": "stream",
     "text": [
      "<class 'pandas.core.frame.DataFrame'>\n",
      "RangeIndex: 11314 entries, 0 to 11313\n",
      "Data columns (total 2 columns):\n",
      " #   Column  Non-Null Count  Dtype \n",
      "---  ------  --------------  ----- \n",
      " 0   email   11314 non-null  object\n",
      " 1   target  11314 non-null  int64 \n",
      "dtypes: int64(1), object(1)\n",
      "memory usage: 176.9+ KB\n"
     ]
    }
   ],
   "source": [
    "data.info()"
   ]
  },
  {
   "cell_type": "code",
   "execution_count": 26,
   "id": "0f31cf9d",
   "metadata": {},
   "outputs": [
    {
     "data": {
      "text/plain": [
       "email     0\n",
       "target    0\n",
       "dtype: int64"
      ]
     },
     "execution_count": 26,
     "metadata": {},
     "output_type": "execute_result"
    }
   ],
   "source": [
    "# null 확인\n",
    "data.isnull().sum()"
   ]
  },
  {
   "cell_type": "code",
   "execution_count": 27,
   "id": "cd2d5305",
   "metadata": {},
   "outputs": [
    {
     "name": "stdout",
     "output_type": "stream",
     "text": [
      "중복을 제외한 샘플의 수 : 11314\n",
      "중복을 제외한 주제의 수 : 20\n"
     ]
    }
   ],
   "source": [
    "print('중복을 제외한 샘플의 수 : {}'.format(data['email'].nunique()))\n",
    "print('중복을 제외한 주제의 수 : {}'.format(data['target'].nunique()))"
   ]
  },
  {
   "cell_type": "code",
   "execution_count": 28,
   "id": "5b112d4d",
   "metadata": {},
   "outputs": [
    {
     "data": {
      "image/png": "[encoded data removed]",
      "text/plain": [
       "<Figure size 432x288 with 1 Axes>"
      ]
     },
     "metadata": {
      "needs_background": "light"
     },
     "output_type": "display_data"
    }
   ],
   "source": [
    "# label 값 분포 시각화\n",
    "data['target'].value_counts().plot(kind='bar');"
   ]
  },
  {
   "cell_type": "code",
   "execution_count": 29,
   "id": "3c124986",
   "metadata": {},
   "outputs": [
    {
     "name": "stdout",
     "output_type": "stream",
     "text": [
      "    target  count\n",
      "0        0    480\n",
      "1        1    584\n",
      "2        2    591\n",
      "3        3    590\n",
      "4        4    578\n",
      "5        5    593\n",
      "6        6    585\n",
      "7        7    594\n",
      "8        8    598\n",
      "9        9    597\n",
      "10      10    600\n",
      "11      11    595\n",
      "12      12    591\n",
      "13      13    594\n",
      "14      14    593\n",
      "15      15    599\n",
      "16      16    546\n",
      "17      17    564\n",
      "18      18    465\n",
      "19      19    377\n"
     ]
    }
   ],
   "source": [
    "print(data.groupby('target').size().reset_index(name='count'))"
   ]
  },
  {
   "cell_type": "code",
   "execution_count": 30,
   "id": "5d631234",
   "metadata": {},
   "outputs": [],
   "source": [
    "newsdata_test = fetch_20newsgroups(subset='test', shuffle=True) # 'test'를 기재하면 테스트 데이터만 리턴한다.\n",
    "train_email = data['email'] # 훈련 데이터의 본문 저장\n",
    "train_label = data['target'] # 훈련 데이터의 레이블 저장\n",
    "test_email = newsdata_test.data # 테스트 데이터의 본문 저장\n",
    "test_label = newsdata_test.target # 테스트 데이터의 레이블 저장"
   ]
  },
  {
   "cell_type": "code",
   "execution_count": 34,
   "id": "05948974",
   "metadata": {},
   "outputs": [
    {
     "name": "stdout",
     "output_type": "stream",
     "text": [
      "훈련 샘플 본문의 크기 : (11314, 10000)\n",
      "훈련 샘플 레이블의 크기 : (11314, 20)\n",
      "테스트 샘플 본문의 크기 : (7532, 10000)\n",
      "테스트 샘플 레이블의 크기 : (7532, 20)\n"
     ]
    }
   ],
   "source": [
    "# 전처리\n",
    "max_words = 10000 # 단어 최대 개수\n",
    "num_classes = 20 # label 수\n",
    "\n",
    "def prepare_data(train_data, test_data, mode): # mode: binary, count, tfidf, freq\n",
    "    t = Tokenizer(num_words = max_words)\n",
    "    t.fit_on_texts(train_data)\n",
    "    X_train = t.texts_to_matrix(train_data, mode=mode)\n",
    "    X_test = t.texts_to_matrix(test_data, mode=mode)\n",
    "    return X_train, X_test, t.index_word\n",
    "\n",
    "X_train, X_test, index_to_word = prepare_data(train_email, test_email, 'binary') # binary 모드로 변환\n",
    "y_train = to_categorical(train_label, num_classes) # 원-핫 인코딩\n",
    "y_test = to_categorical(test_label, num_classes) # 원-핫 인코딩\n",
    "\n",
    "print('훈련 샘플 본문의 크기 : {}'.format(X_train.shape))\n",
    "print('훈련 샘플 레이블의 크기 : {}'.format(y_train.shape))\n",
    "print('테스트 샘플 본문의 크기 : {}'.format(X_test.shape))\n",
    "print('테스트 샘플 레이블의 크기 : {}'.format(y_test.shape))"
   ]
  },
  {
   "cell_type": "code",
   "execution_count": 35,
   "id": "5a7e3f91",
   "metadata": {},
   "outputs": [
    {
     "name": "stdout",
     "output_type": "stream",
     "text": [
      "빈도수 상위 1번 단어 : the\n",
      "빈도수 상위 9999번 단어 : mic\n"
     ]
    }
   ],
   "source": [
    "print('빈도수 상위 1번 단어 : {}'.format(index_to_word[1]))\n",
    "print('빈도수 상위 9999번 단어 : {}'.format(index_to_word[9999]))"
   ]
  },
  {
   "cell_type": "markdown",
   "id": "ef5b3437",
   "metadata": {},
   "source": [
    "## 2. 다층 퍼셉트론을 사용해 텍스트 분류하기"
   ]
  },
  {
   "cell_type": "code",
   "execution_count": 36,
   "id": "c5b9b466",
   "metadata": {},
   "outputs": [
    {
     "name": "stdout",
     "output_type": "stream",
     "text": [
      "Epoch 1/5\n",
      "80/80 [==============================] - 1s 13ms/step - loss: 2.7089 - accuracy: 0.1843 - val_loss: 0.9674 - val_accuracy: 0.8216\n",
      "Epoch 2/5\n",
      "80/80 [==============================] - 1s 11ms/step - loss: 1.0107 - accuracy: 0.7240 - val_loss: 0.4502 - val_accuracy: 0.8843\n",
      "Epoch 3/5\n",
      "80/80 [==============================] - 1s 11ms/step - loss: 0.4489 - accuracy: 0.8823 - val_loss: 0.3425 - val_accuracy: 0.9046\n",
      "Epoch 4/5\n",
      "80/80 [==============================] - 1s 11ms/step - loss: 0.2663 - accuracy: 0.9310 - val_loss: 0.2999 - val_accuracy: 0.9090\n",
      "Epoch 5/5\n",
      "80/80 [==============================] - 1s 11ms/step - loss: 0.1766 - accuracy: 0.9585 - val_loss: 0.2963 - val_accuracy: 0.9099\n",
      "binary 모드의 테스트 정확도: 0.8272703289985657\n",
      "Epoch 1/5\n",
      "80/80 [==============================] - 1s 13ms/step - loss: 3.1565 - accuracy: 0.1436 - val_loss: 1.5582 - val_accuracy: 0.7571\n",
      "Epoch 2/5\n",
      "80/80 [==============================] - 1s 11ms/step - loss: 1.5803 - accuracy: 0.5872 - val_loss: 0.7088 - val_accuracy: 0.8542\n",
      "Epoch 3/5\n",
      "80/80 [==============================] - 1s 11ms/step - loss: 0.8795 - accuracy: 0.7950 - val_loss: 0.4978 - val_accuracy: 0.8754\n",
      "Epoch 4/5\n",
      "80/80 [==============================] - 1s 11ms/step - loss: 0.6034 - accuracy: 0.8694 - val_loss: 0.4215 - val_accuracy: 0.8887\n",
      "Epoch 5/5\n",
      "80/80 [==============================] - 1s 11ms/step - loss: 0.4175 - accuracy: 0.9045 - val_loss: 0.4032 - val_accuracy: 0.8984\n",
      "count 모드의 테스트 정확도: 0.819835364818573\n",
      "Epoch 1/5\n",
      "80/80 [==============================] - 1s 12ms/step - loss: 2.7575 - accuracy: 0.2013 - val_loss: 0.7771 - val_accuracy: 0.8436\n",
      "Epoch 2/5\n",
      "80/80 [==============================] - 1s 11ms/step - loss: 0.9369 - accuracy: 0.7439 - val_loss: 0.4266 - val_accuracy: 0.8949\n",
      "Epoch 3/5\n",
      "80/80 [==============================] - 1s 11ms/step - loss: 0.4789 - accuracy: 0.8766 - val_loss: 0.3510 - val_accuracy: 0.9099\n",
      "Epoch 4/5\n",
      "80/80 [==============================] - 1s 11ms/step - loss: 0.3075 - accuracy: 0.9285 - val_loss: 0.3048 - val_accuracy: 0.9125\n",
      "Epoch 5/5\n",
      "80/80 [==============================] - 1s 11ms/step - loss: 0.1973 - accuracy: 0.9517 - val_loss: 0.2828 - val_accuracy: 0.9125\n",
      "tfidf 모드의 테스트 정확도: 0.8325809836387634\n",
      "Epoch 1/5\n",
      "80/80 [==============================] - 1s 13ms/step - loss: 2.9894 - accuracy: 0.0706 - val_loss: 2.9291 - val_accuracy: 0.2606\n",
      "Epoch 2/5\n",
      "80/80 [==============================] - 1s 11ms/step - loss: 2.8517 - accuracy: 0.1852 - val_loss: 2.4182 - val_accuracy: 0.3869\n",
      "Epoch 3/5\n",
      "80/80 [==============================] - 1s 11ms/step - loss: 2.3135 - accuracy: 0.2883 - val_loss: 1.9076 - val_accuracy: 0.6113\n",
      "Epoch 4/5\n",
      "80/80 [==============================] - 1s 11ms/step - loss: 1.8500 - accuracy: 0.4297 - val_loss: 1.4855 - val_accuracy: 0.6537\n",
      "Epoch 5/5\n",
      "80/80 [==============================] - 1s 11ms/step - loss: 1.4571 - accuracy: 0.5537 - val_loss: 1.1515 - val_accuracy: 0.7341\n",
      "freq 모드의 테스트 정확도: 0.6879978775978088\n"
     ]
    }
   ],
   "source": [
    "from tensorflow.keras.models import Sequential\n",
    "from tensorflow.keras.layers import Dense, Dropout\n",
    "\n",
    "def fit_and_evaluate(X_train, y_train, X_test, y_test):\n",
    "    model = Sequential()\n",
    "    model.add(Dense(256, activation='relu', input_shape=(max_words,)))\n",
    "    model.add(Dropout(0.5))\n",
    "    model.add(Dense(128, activation='relu'))\n",
    "    model.add(Dropout(0.5))\n",
    "    model.add(Dense(num_classes, activation='softmax'))\n",
    "    \n",
    "    model.compile(loss='categorical_crossentropy', optimizer='adam', metrics=['accuracy'])\n",
    "    model.fit(X_train, y_train, batch_size=128, epochs=5, verbose=1, validation_split=0.1)\n",
    "    score = model.evaluate(X_test, y_test, batch_size=128, verbose=0)\n",
    "    \n",
    "    return score[1]\n",
    "\n",
    "modes = ['binary', 'count', 'tfidf', 'freq'] # 4개의 모드를 리스트에 저장.\n",
    "\n",
    "for mode in modes: # 4개의 모드에 대해서 각각 아래의 작업을 반복한다.\n",
    "    X_train, X_test, _ = prepare_data(train_email, test_email, mode) # 모드에 따라서 데이터를 전처리\n",
    "    score = fit_and_evaluate(X_train, y_train, X_test, y_test) # 모델을 훈련하고 평가.\n",
    "    print(mode+' 모드의 테스트 정확도:', score)"
   ]
  },
  {
   "cell_type": "code",
   "execution_count": null,
   "id": "e3390dec",
   "metadata": {},
   "outputs": [],
   "source": []
  }
 ],
 "metadata": {
  "kernelspec": {
   "display_name": "Python 3",
   "language": "python",
   "name": "python3"
  },
  "language_info": {
   "codemirror_mode": {
    "name": "ipython",
    "version": 3
   },
   "file_extension": ".py",
   "mimetype": "text/x-python",
   "name": "python",
   "nbconvert_exporter": "python",
   "pygments_lexer": "ipython3",
   "version": "3.8.8"
  }
 },
 "nbformat": 4,
 "nbformat_minor": 5
}
