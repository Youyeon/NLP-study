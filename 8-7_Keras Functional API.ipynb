{
 "cells": [
  {
   "cell_type": "markdown",
   "id": "668f3633",
   "metadata": {},
   "source": [
    "# 케라스의 함수형 API(Keras Functional API)\n",
    "Functional API는 각 층을 일종의 함수(Function)으로 정의함. <br>\n",
    "각 함수를 조합하기 위한 연산자를 이용해 신경망을 설계함."
   ]
  },
  {
   "cell_type": "markdown",
   "id": "fd15d41c",
   "metadata": {},
   "source": [
    "## 전결합 피드 포워드 신경망(Fully-connected FFNN)\n",
    "입력 데이터의 크기를 인자로 입력층을 정의해야 함."
   ]
  },
  {
   "cell_type": "code",
   "execution_count": 2,
   "id": "4b249306",
   "metadata": {},
   "outputs": [],
   "source": [
    "from tensorflow.keras.layers import Input, Dense\n",
    "from tensorflow.keras.models import Model\n",
    "\n",
    "inputs = Input(shape=(10,)) # 입력의 크기 정의\n",
    "hidden1 = Dense(64, activation='relu')(inputs)\n",
    "hidden2 = Dense(64, activation='relu')(hidden1)\n",
    "output = Dense(1, activation='sigmoid')(hidden2)\n",
    "\n",
    "model = Model(inputs=inputs, outputs=output) # 입력과 출력 정의"
   ]
  },
  {
   "cell_type": "code",
   "execution_count": null,
   "id": "4b296ad6",
   "metadata": {},
   "outputs": [],
   "source": [
    "model.compile(optimizer='rmsprop', loss='categorical_crossentropy', metrics=['accuracy'])\n",
    "model.fit(data, labels)"
   ]
  },
  {
   "cell_type": "code",
   "execution_count": null,
   "id": "01c9759f",
   "metadata": {},
   "outputs": [],
   "source": [
    "# 변수명 통일 예시\n",
    "inputs = Input(shape=(10,)) # 입력의 크기 정의\n",
    "x = Dense(64, activation='relu')(inputs)\n",
    "x = Dense(64, activation='relu')(x)\n",
    "x = Dense(1, activation='sigmoid')(x)\n",
    "\n",
    "model = Model(inputs, x) # 입력과 출력 정의"
   ]
  },
  {
   "cell_type": "markdown",
   "id": "a68a378f",
   "metadata": {},
   "source": [
    "### 1. 선형 회귀(Linear Regression)"
   ]
  },
  {
   "cell_type": "code",
   "execution_count": 10,
   "id": "f4b41cbf",
   "metadata": {},
   "outputs": [
    {
     "data": {
      "text/plain": [
       "<tensorflow.python.keras.callbacks.History at 0x7fc88875eca0>"
      ]
     },
     "execution_count": 10,
     "metadata": {},
     "output_type": "execute_result"
    }
   ],
   "source": [
    "from tensorflow.keras.layers import Input, Dense\n",
    "from tensorflow.keras.models import Model\n",
    "from tensorflow.keras import optimizers\n",
    "\n",
    "X=[1,2,3,4,5,6,7,8,9] # 공부하는 시간\n",
    "y=[11,22,33,44,53,66,77,87,95] # 각 공부하는 시간에 맵핑되는 성적\n",
    "\n",
    "inputs = Input(shape=(1,))\n",
    "output = Dense(1, activation='linear')(inputs)\n",
    "linear_model = Model(inputs, output)\n",
    "\n",
    "sgd = optimizers.SGD(lr=0.01)\n",
    "\n",
    "linear_model.compile(optimizer=sgd, loss='mse', metrics=['accuracy'])\n",
    "linear_model.fit(X, y, batch_size=1, epochs=300, shuffle=False, verbose=0)"
   ]
  },
  {
   "cell_type": "markdown",
   "id": "2fad6b5b",
   "metadata": {},
   "source": [
    "### 2. 로지스틱 회귀(Logistic Regression)"
   ]
  },
  {
   "cell_type": "code",
   "execution_count": null,
   "id": "fa061ed8",
   "metadata": {},
   "outputs": [],
   "source": [
    "from tensorflow.keras.layers import Inut, Dense\n",
    "from tensorflow.keras.models import Model\n",
    "\n",
    "inputs = Input(shape=(3,))\n",
    "output = Dense(1, activation='sigmoid')(inputs)\n",
    "logistic_model = Model(inputs, output)"
   ]
  },
  {
   "cell_type": "markdown",
   "id": "60df7e1f",
   "metadata": {},
   "source": [
    "### 3. 다중 입력을 받는 모델(Model that accepets multiple inputs)"
   ]
  },
  {
   "cell_type": "code",
   "execution_count": null,
   "id": "0609d040",
   "metadata": {},
   "outputs": [],
   "source": [
    "from tensorflow.keras.layers import Input, Dense, concatenate\n",
    "from tensorflow.keras.models import Model\n",
    "\n",
    "# 두 개의 입력층\n",
    "inputA = Input(shape=(64,))\n",
    "inputB = Input(shape=(128,))\n",
    "\n",
    "# 첫 입력층에 대한 인공 신경망\n",
    "x = Dense(16, activation='relu')(inputA)\n",
    "x = Dense(8, activation='relu')(x)\n",
    "x = Model(inputA, x)\n",
    "\n",
    "# 두번째 입력층에 대한 인공 신경망\n",
    "y = Dense(64, activation='relu')(inputB)\n",
    "y = Dense(32, activation='relu')(y)\n",
    "y = Dense(8, activation='relu')(y)\n",
    "y = Model(inputB, y)\n",
    "\n",
    "# 두 신경망 연결\n",
    "result = concatenate([x.output, y.output])\n",
    "\n",
    "# 연결된 값에 대한 Dense layer 추가\n",
    "z = Dense(2, activation='relu')(result)\n",
    "z = Dense(1, activation='linear')(z)\n",
    "\n",
    "# 최종 layer\n",
    "model = Model([inputA, inputB], z)"
   ]
  },
  {
   "cell_type": "markdown",
   "id": "88b7786d",
   "metadata": {},
   "source": [
    "### 4. RNN(Recurrence Neural Network) 은닉층 사용"
   ]
  },
  {
   "cell_type": "code",
   "execution_count": null,
   "id": "399f89f9",
   "metadata": {},
   "outputs": [],
   "source": [
    "from tensorflow.keras.layers import Input, Dense, LSTM\n",
    "from tensorflow.keras.models import Model\n",
    "\n",
    "inputs = Input(shape=(50,1))\n",
    "lstm_layer = LSTM(10)(inputs)\n",
    "x = Dense(10, activation='relu')(lstm_layer)\n",
    "output = Dense(1, activation='sigmoid')(x)\n",
    "model = Model(inputs,output)"
   ]
  },
  {
   "cell_type": "markdown",
   "id": "0a332b3d",
   "metadata": {},
   "source": [
    "### 5. 다르지만 동일한 표기"
   ]
  },
  {
   "cell_type": "code",
   "execution_count": null,
   "id": "75fe5db8",
   "metadata": {},
   "outputs": [],
   "source": [
    "# 1\n",
    "encoder=Dense(128)(input)\n",
    "\n",
    "# 2\n",
    "encoder = Dense(128)\n",
    "encoder(input)"
   ]
  }
 ],
 "metadata": {
  "kernelspec": {
   "display_name": "Python 3",
   "language": "python",
   "name": "python3"
  },
  "language_info": {
   "codemirror_mode": {
    "name": "ipython",
    "version": 3
   },
   "file_extension": ".py",
   "mimetype": "text/x-python",
   "name": "python",
   "nbconvert_exporter": "python",
   "pygments_lexer": "ipython3",
   "version": "3.8.8"
  }
 },
 "nbformat": 4,
 "nbformat_minor": 5
}
