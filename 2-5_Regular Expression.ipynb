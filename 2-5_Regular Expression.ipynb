{
 "cells": [
  {
   "cell_type": "markdown",
   "id": "0acce3b2",
   "metadata": {},
   "source": [
    "# 정규표현식"
   ]
  },
  {
   "cell_type": "code",
   "execution_count": 1,
   "id": "81cb87dc",
   "metadata": {},
   "outputs": [
    {
     "name": "stdout",
     "output_type": "stream",
     "text": [
      "kkk: None\n",
      "abc: <re.Match object; span=(0, 3), match='abc'>\n"
     ]
    }
   ],
   "source": [
    "import re # 정규표현식 모듈\n",
    "r = re.compile(\"a.c\")\n",
    "print('kkk:', r.search('kkk'))\n",
    "print('abc:', r.search('abc'))"
   ]
  },
  {
   "cell_type": "code",
   "execution_count": 2,
   "id": "a66a7169",
   "metadata": {},
   "outputs": [
    {
     "name": "stdout",
     "output_type": "stream",
     "text": [
      "abbc  None\n",
      "abc: <re.Match object; span=(0, 3), match='abc'>\n",
      "ac:  <re.Match object; span=(0, 2), match='ac'>\n"
     ]
    }
   ],
   "source": [
    "r = re.compile('ab?c')\n",
    "print('abbc ', r.search('abbc'))\n",
    "print('abc:', r.search('abc'))\n",
    "print('ac: ', r.search('ac'))"
   ]
  },
  {
   "cell_type": "code",
   "execution_count": 7,
   "id": "e62ad63c",
   "metadata": {},
   "outputs": [
    {
     "name": "stdout",
     "output_type": "stream",
     "text": [
      "ac:  <re.Match object; span=(0, 2), match='ac'>\n",
      "abc: <re.Match object; span=(0, 3), match='abc'>\n",
      "abbbbc:  <re.Match object; span=(0, 6), match='abbbbc'>\n"
     ]
    }
   ],
   "source": [
    "r = re.compile('ab*c')\n",
    "print('ac: ', r.search('ac'))\n",
    "print('abc:', r.search('abc'))\n",
    "print('abbbbc: ', r.search('abbbbc'))"
   ]
  },
  {
   "cell_type": "code",
   "execution_count": 8,
   "id": "7c46f894",
   "metadata": {},
   "outputs": [
    {
     "name": "stdout",
     "output_type": "stream",
     "text": [
      "ac:  None\n",
      "abc: <re.Match object; span=(0, 3), match='abc'>\n",
      "abbbbc:  <re.Match object; span=(0, 6), match='abbbbc'>\n"
     ]
    }
   ],
   "source": [
    "r = re.compile('ab+c')\n",
    "print('ac: ', r.search('ac'))\n",
    "print('abc:', r.search('abc'))\n",
    "print('abbbbc: ', r.search('abbbbc'))"
   ]
  },
  {
   "cell_type": "code",
   "execution_count": 10,
   "id": "0001ad0f",
   "metadata": {},
   "outputs": [
    {
     "name": "stdout",
     "output_type": "stream",
     "text": [
      "bbc:  None\n",
      "ab: <re.Match object; span=(0, 1), match='a'>\n"
     ]
    }
   ],
   "source": [
    "r = re.compile('^a')\n",
    "print('bbc: ', r.search('bbc'))\n",
    "print('ab:', r.search('ab'))"
   ]
  },
  {
   "cell_type": "code",
   "execution_count": 11,
   "id": "8047c582",
   "metadata": {},
   "outputs": [
    {
     "name": "stdout",
     "output_type": "stream",
     "text": [
      "ac:  None\n",
      "abc: None\n",
      "abbc: <re.Match object; span=(0, 4), match='abbc'>\n",
      "abbbbbc: None\n"
     ]
    }
   ],
   "source": [
    "r = re.compile('ab{2}c')\n",
    "print('ac: ', r.search('ac'))\n",
    "print('abc:', r.search('abc'))\n",
    "print('abbc:', r.search('abbc'))\n",
    "print('abbbbbc:', r.search('abbbbbc'))"
   ]
  },
  {
   "cell_type": "code",
   "execution_count": 13,
   "id": "31ae4f0a",
   "metadata": {},
   "outputs": [
    {
     "name": "stdout",
     "output_type": "stream",
     "text": [
      "ac:  None\n",
      "abc: None\n",
      "abbc: <re.Match object; span=(0, 4), match='abbc'>\n",
      "abbbbbbbbc: <re.Match object; span=(0, 10), match='abbbbbbbbc'>\n",
      "abbbbbbbbbc: None\n"
     ]
    }
   ],
   "source": [
    "r = re.compile('ab{2,8}c')\n",
    "print('ac: ', r.search('ac'))\n",
    "print('abc:', r.search('abc'))\n",
    "print('abbc:', r.search('abbc'))\n",
    "print('abbbbbbbbc:', r.search('abbbbbbbbc'))\n",
    "print('abbbbbbbbbc:', r.search('abbbbbbbbbc'))"
   ]
  },
  {
   "cell_type": "code",
   "execution_count": 15,
   "id": "f33bb69b",
   "metadata": {},
   "outputs": [
    {
     "name": "stdout",
     "output_type": "stream",
     "text": [
      "bc:  None\n",
      "aa: None\n",
      "aabc: <re.Match object; span=(0, 4), match='aabc'>\n",
      "aaaaaaaabc: <re.Match object; span=(0, 10), match='aaaaaaaabc'>\n"
     ]
    }
   ],
   "source": [
    "r = re.compile('a{2,}bc')\n",
    "print('bc: ', r.search('bc'))\n",
    "print('aa:', r.search('aa'))\n",
    "print('aabc:', r.search('aabc'))\n",
    "print('aaaaaaaabc:', r.search('aaaaaaaabc'))"
   ]
  },
  {
   "cell_type": "code",
   "execution_count": 16,
   "id": "a2d8bffc",
   "metadata": {},
   "outputs": [
    {
     "name": "stdout",
     "output_type": "stream",
     "text": [
      "zzz:  None\n",
      "a: <re.Match object; span=(0, 1), match='a'>\n",
      "aaaaaaa: <re.Match object; span=(0, 1), match='a'>\n",
      "baac: <re.Match object; span=(0, 1), match='b'>\n"
     ]
    }
   ],
   "source": [
    "r = re.compile('[abc]')\n",
    "print('zzz: ', r.search('zzz'))\n",
    "print('a:', r.search('a'))\n",
    "print('aaaaaaa:', r.search('aaaaaaa'))\n",
    "print('baac:', r.search('baac'))"
   ]
  },
  {
   "cell_type": "code",
   "execution_count": 17,
   "id": "fa1fbc6c",
   "metadata": {},
   "outputs": [
    {
     "name": "stdout",
     "output_type": "stream",
     "text": [
      "AAA:  None\n",
      "aBC: <re.Match object; span=(0, 1), match='a'>\n",
      "111: None\n"
     ]
    }
   ],
   "source": [
    "r = re.compile('[a-z]')\n",
    "print('AAA: ', r.search('AAA'))\n",
    "print('aBC:', r.search('aBC'))\n",
    "print('111:', r.search('111'))"
   ]
  },
  {
   "cell_type": "code",
   "execution_count": 18,
   "id": "4f3aed90",
   "metadata": {},
   "outputs": [
    {
     "name": "stdout",
     "output_type": "stream",
     "text": [
      "a:  None\n",
      "ab: None\n",
      "b: None\n",
      "d: <re.Match object; span=(0, 1), match='d'>\n",
      "1: <re.Match object; span=(0, 1), match='1'>\n"
     ]
    }
   ],
   "source": [
    "r = re.compile('[^abc]')\n",
    "print('a: ', r.search('a'))\n",
    "print('ab:', r.search('ab'))\n",
    "print('b:', r.search('b'))\n",
    "print('d:', r.search('d'))\n",
    "print('1:', r.search('1'))"
   ]
  },
  {
   "cell_type": "markdown",
   "id": "01bc3f78",
   "metadata": {},
   "source": [
    "## 함수들"
   ]
  },
  {
   "cell_type": "code",
   "execution_count": 20,
   "id": "27814abe",
   "metadata": {},
   "outputs": [
    {
     "name": "stdout",
     "output_type": "stream",
     "text": [
      "search:  <re.Match object; span=(3, 6), match='abc'>\n",
      "match:  None\n",
      "match:  <re.Match object; span=(0, 3), match='abc'>\n"
     ]
    }
   ],
   "source": [
    "# match: 시작부분부터 일치해야 출력\n",
    "r = re.compile(\"ab.\")\n",
    "print('search: ', r.search('kkkabc'))\n",
    "print('match: ', r.match('kkkabc'))\n",
    "print('match: ', r.match('abckkk'))"
   ]
  },
  {
   "cell_type": "code",
   "execution_count": 21,
   "id": "c6e17630",
   "metadata": {},
   "outputs": [
    {
     "data": {
      "text/plain": [
       "['사과', '딸기', '수박', '메론', '바나나']"
      ]
     },
     "execution_count": 21,
     "metadata": {},
     "output_type": "execute_result"
    }
   ],
   "source": [
    "# split: 분자열 분리\n",
    "text = '사과 딸기 수박 메론 바나나'\n",
    "re.split(' ', text)"
   ]
  },
  {
   "cell_type": "code",
   "execution_count": 24,
   "id": "513e0b4e",
   "metadata": {},
   "outputs": [
    {
     "data": {
      "text/plain": [
       "['010', '1234', '1234', '30']"
      ]
     },
     "execution_count": 24,
     "metadata": {},
     "output_type": "execute_result"
    }
   ],
   "source": [
    "# findall: 정규 표현식과 매치되는 모든 문자열들 리스트로 리턴.\n",
    "text=\"이름 : 김철수 전화번호 : 010 - 1234 - 1234 나이 : 30 성별 : 남\"  \n",
    "re.findall(\"\\d+\",text) # \\d는 숫자 의미"
   ]
  },
  {
   "cell_type": "code",
   "execution_count": 26,
   "id": "129a7c5e",
   "metadata": {},
   "outputs": [
    {
     "name": "stdout",
     "output_type": "stream",
     "text": [
      "Regular expression : A regular expression, regex or regexp[1] (sometimes called a rational expression)[2][3] is, in theoretical computer science and formal language theory, a sequence of characters that define a search pattern.\n"
     ]
    },
    {
     "data": {
      "text/plain": [
       "'Regular expression   A regular expression  regex or regexp     sometimes called a rational expression        is  in theoretical computer science and formal language theory  a sequence of characters that define a search pattern '"
      ]
     },
     "execution_count": 26,
     "metadata": {},
     "output_type": "execute_result"
    }
   ],
   "source": [
    "# sub: 정규 표현식과 일치하는 문자열을 찾아 다른 문자열로 대체\n",
    "text=\"Regular expression : A regular expression, regex or regexp[1] (sometimes called a rational expression)[2][3] is, in theoretical computer science and formal language theory, a sequence of characters that define a search pattern.\"\n",
    "print(text)\n",
    "re.sub('[^a-zA-Z]',' ',text) # 특수 문자 제거"
   ]
  },
  {
   "cell_type": "markdown",
   "id": "1940bbc5",
   "metadata": {},
   "source": [
    "## 예제"
   ]
  },
  {
   "cell_type": "code",
   "execution_count": 29,
   "id": "2721af4f",
   "metadata": {},
   "outputs": [],
   "source": [
    "text = \"\"\"100 John    PROF\n",
    "101 James   STUD\n",
    "102 Mac   STUD\"\"\""
   ]
  },
  {
   "cell_type": "code",
   "execution_count": 30,
   "id": "ba6fc175",
   "metadata": {},
   "outputs": [
    {
     "data": {
      "text/plain": [
       "['100', 'John', 'PROF', '101', 'James', 'STUD', '102', 'Mac', 'STUD']"
      ]
     },
     "execution_count": 30,
     "metadata": {},
     "output_type": "execute_result"
    }
   ],
   "source": [
    "re.split('\\s+', text)"
   ]
  },
  {
   "cell_type": "code",
   "execution_count": 31,
   "id": "9cba884c",
   "metadata": {},
   "outputs": [
    {
     "data": {
      "text/plain": [
       "['100', '101', '102']"
      ]
     },
     "execution_count": 31,
     "metadata": {},
     "output_type": "execute_result"
    }
   ],
   "source": [
    "re.findall('\\d+', text) # 숫자만"
   ]
  },
  {
   "cell_type": "code",
   "execution_count": 35,
   "id": "486ab14f",
   "metadata": {},
   "outputs": [
    {
     "data": {
      "text/plain": [
       "['J', 'P', 'R', 'O', 'F', 'J', 'S', 'T', 'U', 'D', 'M', 'S', 'T', 'U', 'D']"
      ]
     },
     "execution_count": 35,
     "metadata": {},
     "output_type": "execute_result"
    }
   ],
   "source": [
    "re.findall('[A-Z]', text)"
   ]
  },
  {
   "cell_type": "code",
   "execution_count": 36,
   "id": "e8f2842c",
   "metadata": {},
   "outputs": [
    {
     "data": {
      "text/plain": [
       "['PROF', 'STUD', 'STUD']"
      ]
     },
     "execution_count": 36,
     "metadata": {},
     "output_type": "execute_result"
    }
   ],
   "source": [
    "re.findall('[A-Z]{4}', text)"
   ]
  },
  {
   "cell_type": "code",
   "execution_count": 38,
   "id": "dcd53ef6",
   "metadata": {},
   "outputs": [
    {
     "data": {
      "text/plain": [
       "['John', 'James', 'Mac']"
      ]
     },
     "execution_count": 38,
     "metadata": {},
     "output_type": "execute_result"
    }
   ],
   "source": [
    "re.findall('[A-Z][a-z]+', text) # 이름"
   ]
  },
  {
   "cell_type": "code",
   "execution_count": 40,
   "id": "050bda35",
   "metadata": {},
   "outputs": [
    {
     "data": {
      "text/plain": [
       "'    John    PROF     James   STUD     Mac   STUD'"
      ]
     },
     "execution_count": 40,
     "metadata": {},
     "output_type": "execute_result"
    }
   ],
   "source": [
    "letters_only = re.sub('[^a-zA-Z]', ' ', text)\n",
    "letters_only"
   ]
  },
  {
   "cell_type": "markdown",
   "id": "0bf58801",
   "metadata": {},
   "source": [
    "## 정규 표현식을 이용한 토큰화"
   ]
  },
  {
   "cell_type": "code",
   "execution_count": 41,
   "id": "19288645",
   "metadata": {},
   "outputs": [
    {
     "name": "stdout",
     "output_type": "stream",
     "text": [
      "['Don', 't', 'be', 'fooled', 'by', 'the', 'dark', 'sounding', 'name', 'Mr', 'Jone', 's', 'Orphanage', 'is', 'as', 'cheery', 'as', 'cheery', 'goes', 'for', 'a', 'pastry', 'shop']\n"
     ]
    }
   ],
   "source": [
    "import nltk\n",
    "from nltk.tokenize import RegexpTokenizer\n",
    "tokenizer=RegexpTokenizer(\"[\\w]+\")\n",
    "print(tokenizer.tokenize(\"Don't be fooled by the dark sounding name, Mr. Jone's Orphanage is as cheery as cheery goes for a pastry shop\"))"
   ]
  },
  {
   "cell_type": "code",
   "execution_count": 42,
   "id": "d42f9849",
   "metadata": {},
   "outputs": [
    {
     "name": "stdout",
     "output_type": "stream",
     "text": [
      "[\"Don't\", 'be', 'fooled', 'by', 'the', 'dark', 'sounding', 'name,', 'Mr.', \"Jone's\", 'Orphanage', 'is', 'as', 'cheery', 'as', 'cheery', 'goes', 'for', 'a', 'pastry', 'shop']\n"
     ]
    }
   ],
   "source": [
    "tokenizer=RegexpTokenizer(\"[\\s]+\", gaps=True) # 정규표현식을 기준으로 split\n",
    "print(tokenizer.tokenize(\"Don't be fooled by the dark sounding name, Mr. Jone's Orphanage is as cheery as cheery goes for a pastry shop\"))"
   ]
  },
  {
   "cell_type": "code",
   "execution_count": null,
   "id": "1d188fb9",
   "metadata": {},
   "outputs": [],
   "source": []
  }
 ],
 "metadata": {
  "kernelspec": {
   "display_name": "Python 3",
   "language": "python",
   "name": "python3"
  },
  "language_info": {
   "codemirror_mode": {
    "name": "ipython",
    "version": 3
   },
   "file_extension": ".py",
   "mimetype": "text/x-python",
   "name": "python",
   "nbconvert_exporter": "python",
   "pygments_lexer": "ipython3",
   "version": "3.8.8"
  }
 },
 "nbformat": 4,
 "nbformat_minor": 5
}
