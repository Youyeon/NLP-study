{
 "cells": [
  {
   "cell_type": "markdown",
   "id": "1fb3ca25",
   "metadata": {},
   "source": [
    "# 9-7 글자 단위 RNN(Char RNN)"
   ]
  },
  {
   "cell_type": "markdown",
   "id": "4e507da4",
   "metadata": {},
   "source": [
    "## 글자 단위 RNN 언어 모델(Char RNNLM)"
   ]
  },
  {
   "cell_type": "markdown",
   "id": "f05d5335",
   "metadata": {},
   "source": [
    "### 1. 데이터 처리"
   ]
  },
  {
   "cell_type": "code",
   "execution_count": 1,
   "id": "c5edff58",
   "metadata": {},
   "outputs": [],
   "source": [
    "import numpy as np\n",
    "import urllib.request\n",
    "from tensorflow.keras.utils import to_categorical"
   ]
  },
  {
   "cell_type": "code",
   "execution_count": 3,
   "id": "24255db1",
   "metadata": {},
   "outputs": [
    {
     "data": {
      "text/plain": [
       "['the project gutenberg ebook of alices adventures in wonderland, by lewis carroll',\n",
       " 'this ebook is for the use of anyone anywhere in the united states and',\n",
       " 'most other parts of the world at no cost and with almost no restrictions',\n",
       " 'whatsoever. you may copy it, give it away or re-use it under the terms',\n",
       " 'of the project gutenberg license included with this ebook or online at']"
      ]
     },
     "execution_count": 3,
     "metadata": {},
     "output_type": "execute_result"
    }
   ],
   "source": [
    "urllib.request.urlretrieve('http://www.gutenberg.org/files/11/11-0.txt', filename='11-0.txt')\n",
    "f = open('./11-0.txt', 'rb')\n",
    "\n",
    "lines = []\n",
    "\n",
    "for line in f:\n",
    "    line = line.strip() # \\r, \\n 제거\n",
    "    line = line.lower()\n",
    "    line = line.decode('ascii', 'ignore') #\\xe2\\x80\\x99 등과 같은 바이트열 제거\n",
    "    if len(line)>0:\n",
    "        lines.append(line)\n",
    "f.close()\n",
    "\n",
    "lines[:5]"
   ]
  },
  {
   "cell_type": "code",
   "execution_count": 4,
   "id": "4d2c112a",
   "metadata": {},
   "outputs": [
    {
     "name": "stdout",
     "output_type": "stream",
     "text": [
      "문자열의 길이 또는 총 글자의 개수: 159484\n"
     ]
    }
   ],
   "source": [
    "# 하나의 문자열로 통합\n",
    "text = ' '.join(lines)\n",
    "print('문자열의 길이 또는 총 글자의 개수: %d' % len(text))"
   ]
  },
  {
   "cell_type": "code",
   "execution_count": 6,
   "id": "690cb7fb",
   "metadata": {},
   "outputs": [
    {
     "name": "stdout",
     "output_type": "stream",
     "text": [
      "글자 집합의 크기: 56\n",
      "{' ': 0, '!': 1, '\"': 2, '#': 3, '$': 4, '%': 5, \"'\": 6, '(': 7, ')': 8, '*': 9, ',': 10, '-': 11, '.': 12, '/': 13, '0': 14, '1': 15, '2': 16, '3': 17, '4': 18, '5': 19, '6': 20, '7': 21, '8': 22, '9': 23, ':': 24, ';': 25, '?': 26, '[': 27, ']': 28, '_': 29, 'a': 30, 'b': 31, 'c': 32, 'd': 33, 'e': 34, 'f': 35, 'g': 36, 'h': 37, 'i': 38, 'j': 39, 'k': 40, 'l': 41, 'm': 42, 'n': 43, 'o': 44, 'p': 45, 'q': 46, 'r': 47, 's': 48, 't': 49, 'u': 50, 'v': 51, 'w': 52, 'x': 53, 'y': 54, 'z': 55}\n"
     ]
    }
   ],
   "source": [
    "# 문자열로부터 '글자' 집합 생성\n",
    "char_vocab = sorted(list(set(text)))\n",
    "vocab_size = len(char_vocab)\n",
    "print('글자 집합의 크기: {}'.format(vocab_size))\n",
    "\n",
    "char_to_index = dict((c, i) for i, c in enumerate(char_vocab)) # 글자에 정수 인덱스 부여\n",
    "print(char_to_index)"
   ]
  },
  {
   "cell_type": "code",
   "execution_count": 7,
   "id": "2410a09c",
   "metadata": {},
   "outputs": [],
   "source": [
    "index_to_char = {}\n",
    "for key, value in char_to_index.items():\n",
    "    index_to_char[value] = key"
   ]
  },
  {
   "cell_type": "code",
   "execution_count": 8,
   "id": "0d270434",
   "metadata": {},
   "outputs": [
    {
     "name": "stdout",
     "output_type": "stream",
     "text": [
      "문장 샘플의 수: 2658\n"
     ]
    }
   ],
   "source": [
    "'''\n",
    "    1. 문장 샘플의 길이 정하기\n",
    "    2. 해당 길이만큼 문자열 전체를 전부 등분\n",
    "'''\n",
    "seq_length = 60 # 문장의 길이\n",
    "n_samples = int(np.floor((len(text)-1) / seq_length)) # 문자열 60등분; 총 샘플의 개수\n",
    "print('문장 샘플의 수: {}'.format(n_samples))"
   ]
  },
  {
   "cell_type": "code",
   "execution_count": 14,
   "id": "f7695ae1",
   "metadata": {},
   "outputs": [
    {
     "name": "stdout",
     "output_type": "stream",
     "text": [
      "[49, 37, 34, 0, 45, 47, 44, 39, 34, 32, 49, 0, 36, 50, 49, 34, 43, 31, 34, 47, 36, 0, 34, 31, 44, 44, 40, 0, 44, 35, 0, 30, 41, 38, 32, 34, 48, 0, 30, 33, 51, 34, 43, 49, 50, 47, 34, 48, 0, 38, 43, 0, 52, 44, 43, 33, 34, 47, 41, 30] \n",
      "\n",
      "[37, 34, 0, 45, 47, 44, 39, 34, 32, 49, 0, 36, 50, 49, 34, 43, 31, 34, 47, 36, 0, 34, 31, 44, 44, 40, 0, 44, 35, 0, 30, 41, 38, 32, 34, 48, 0, 30, 33, 51, 34, 43, 49, 50, 47, 34, 48, 0, 38, 43, 0, 52, 44, 43, 33, 34, 47, 41, 30, 43]\n"
     ]
    }
   ],
   "source": [
    "train_X = []\n",
    "train_y = []\n",
    "\n",
    "for i in range(n_samples):\n",
    "    X_sample = text[i*seq_length : (i+1)*seq_length] # 60개씩\n",
    "    X_encoded = [char_to_index[c] for c in X_sample] # 하나의 문장 샘플에 대해 정수 인코딩\n",
    "    train_X.append(X_encoded)\n",
    "    \n",
    "    # 오른쪽으로 한 칸 shift\n",
    "    y_sample = text[i*seq_length+1 : (i+1)*seq_length+1]\n",
    "    y_encoded = [char_to_index[c] for c in y_sample]\n",
    "    train_y.append(y_encoded)\n",
    "\n",
    "print(train_X[0], '\\n')\n",
    "print(train_y[0]) # shift"
   ]
  },
  {
   "cell_type": "code",
   "execution_count": 15,
   "id": "eb63faf2",
   "metadata": {},
   "outputs": [
    {
     "name": "stdout",
     "output_type": "stream",
     "text": [
      "train_X의 크기(shape) : (2658, 60, 56)\n",
      "train_y의 크기(shape) : (2658, 60, 56)\n"
     ]
    }
   ],
   "source": [
    "# Embedding층 설계X\n",
    "train_X = to_categorical(train_X)\n",
    "train_y = to_categorical(train_y)\n",
    "print('train_X의 크기(shape) : {}'.format(train_X.shape)) # 원-핫 인코딩\n",
    "print('train_y의 크기(shape) : {}'.format(train_y.shape)) # 원-핫 인코딩\n",
    "'''\n",
    "    샘플 개수: 2658개\n",
    "    입력 시퀀스의 길이: 60\n",
    "    각 벡터의 차원: 56 (원-핫 인코딩)\n",
    "'''"
   ]
  },
  {
   "cell_type": "markdown",
   "id": "a58c52f7",
   "metadata": {},
   "source": [
    "### 2. 모델 생성"
   ]
  },
  {
   "cell_type": "code",
   "execution_count": 16,
   "id": "bc32da0f",
   "metadata": {},
   "outputs": [],
   "source": [
    "from tensorflow.keras.models import Sequential\n",
    "from tensorflow.keras.layers import Dense, LSTM, TimeDistributed"
   ]
  },
  {
   "cell_type": "code",
   "execution_count": 17,
   "id": "77661ff9",
   "metadata": {
    "scrolled": true
   },
   "outputs": [
    {
     "name": "stdout",
     "output_type": "stream",
     "text": [
      "Epoch 1/80\n",
      "84/84 - 16s - loss: 3.0824 - accuracy: 0.1821\n",
      "Epoch 2/80\n",
      "84/84 - 14s - loss: 2.7546 - accuracy: 0.2393\n",
      "Epoch 3/80\n",
      "84/84 - 14s - loss: 2.3951 - accuracy: 0.3288\n",
      "Epoch 4/80\n",
      "84/84 - 14s - loss: 2.2476 - accuracy: 0.3630\n",
      "Epoch 5/80\n",
      "84/84 - 14s - loss: 2.1346 - accuracy: 0.3909\n",
      "Epoch 6/80\n",
      "84/84 - 14s - loss: 2.0457 - accuracy: 0.4125\n",
      "Epoch 7/80\n",
      "84/84 - 14s - loss: 1.9808 - accuracy: 0.4296\n",
      "Epoch 8/80\n",
      "84/84 - 14s - loss: 1.9118 - accuracy: 0.4486\n",
      "Epoch 9/80\n",
      "84/84 - 14s - loss: 1.8553 - accuracy: 0.4640\n",
      "Epoch 10/80\n",
      "84/84 - 14s - loss: 1.8017 - accuracy: 0.4787\n",
      "Epoch 11/80\n",
      "84/84 - 14s - loss: 1.7545 - accuracy: 0.4907\n",
      "Epoch 12/80\n",
      "84/84 - 14s - loss: 1.7092 - accuracy: 0.5018\n",
      "Epoch 13/80\n",
      "84/84 - 14s - loss: 1.6640 - accuracy: 0.5137\n",
      "Epoch 14/80\n",
      "84/84 - 14s - loss: 1.6294 - accuracy: 0.5225\n",
      "Epoch 15/80\n",
      "84/84 - 14s - loss: 1.5900 - accuracy: 0.5336\n",
      "Epoch 16/80\n",
      "84/84 - 14s - loss: 1.5498 - accuracy: 0.5441\n",
      "Epoch 17/80\n",
      "84/84 - 14s - loss: 1.5136 - accuracy: 0.5532\n",
      "Epoch 18/80\n",
      "84/84 - 14s - loss: 1.4817 - accuracy: 0.5612\n",
      "Epoch 19/80\n",
      "84/84 - 14s - loss: 1.4482 - accuracy: 0.5712\n",
      "Epoch 20/80\n",
      "84/84 - 14s - loss: 1.4170 - accuracy: 0.5808\n",
      "Epoch 21/80\n",
      "84/84 - 14s - loss: 1.3873 - accuracy: 0.5880\n",
      "Epoch 22/80\n",
      "84/84 - 14s - loss: 1.3536 - accuracy: 0.5974\n",
      "Epoch 23/80\n",
      "84/84 - 14s - loss: 1.3249 - accuracy: 0.6063\n",
      "Epoch 24/80\n",
      "84/84 - 14s - loss: 1.2947 - accuracy: 0.6143\n",
      "Epoch 25/80\n",
      "84/84 - 14s - loss: 1.2686 - accuracy: 0.6210\n",
      "Epoch 26/80\n",
      "84/84 - 14s - loss: 1.2367 - accuracy: 0.6301\n",
      "Epoch 27/80\n",
      "84/84 - 14s - loss: 1.2067 - accuracy: 0.6391\n",
      "Epoch 28/80\n",
      "84/84 - 14s - loss: 1.1826 - accuracy: 0.6456\n",
      "Epoch 29/80\n",
      "84/84 - 14s - loss: 1.1507 - accuracy: 0.6558\n",
      "Epoch 30/80\n",
      "84/84 - 14s - loss: 1.1243 - accuracy: 0.6641\n",
      "Epoch 31/80\n",
      "84/84 - 14s - loss: 1.0974 - accuracy: 0.6713\n",
      "Epoch 32/80\n",
      "84/84 - 14s - loss: 1.0655 - accuracy: 0.6818\n",
      "Epoch 33/80\n",
      "84/84 - 14s - loss: 1.0367 - accuracy: 0.6900\n",
      "Epoch 34/80\n",
      "84/84 - 14s - loss: 1.0090 - accuracy: 0.6978\n",
      "Epoch 35/80\n",
      "84/84 - 14s - loss: 0.9807 - accuracy: 0.7066\n",
      "Epoch 36/80\n",
      "84/84 - 14s - loss: 0.9551 - accuracy: 0.7154\n",
      "Epoch 37/80\n",
      "84/84 - 14s - loss: 0.9348 - accuracy: 0.7202\n",
      "Epoch 38/80\n",
      "84/84 - 14s - loss: 0.9103 - accuracy: 0.7278\n",
      "Epoch 39/80\n",
      "84/84 - 14s - loss: 0.8693 - accuracy: 0.7417\n",
      "Epoch 40/80\n",
      "84/84 - 14s - loss: 0.8406 - accuracy: 0.7506\n",
      "Epoch 41/80\n",
      "84/84 - 14s - loss: 0.8156 - accuracy: 0.7585\n",
      "Epoch 42/80\n",
      "84/84 - 14s - loss: 0.7911 - accuracy: 0.7656\n",
      "Epoch 43/80\n",
      "84/84 - 14s - loss: 0.7629 - accuracy: 0.7744\n",
      "Epoch 44/80\n",
      "84/84 - 14s - loss: 0.7379 - accuracy: 0.7829\n",
      "Epoch 45/80\n",
      "84/84 - 14s - loss: 0.7245 - accuracy: 0.7860\n",
      "Epoch 46/80\n",
      "84/84 - 14s - loss: 0.7031 - accuracy: 0.7914\n",
      "Epoch 47/80\n",
      "84/84 - 14s - loss: 0.6616 - accuracy: 0.8072\n",
      "Epoch 48/80\n",
      "84/84 - 14s - loss: 0.6386 - accuracy: 0.8138\n",
      "Epoch 49/80\n",
      "84/84 - 14s - loss: 0.6115 - accuracy: 0.8235\n",
      "Epoch 50/80\n",
      "84/84 - 14s - loss: 0.5888 - accuracy: 0.8306\n",
      "Epoch 51/80\n",
      "84/84 - 14s - loss: 0.5694 - accuracy: 0.8368\n",
      "Epoch 52/80\n",
      "84/84 - 14s - loss: 0.5485 - accuracy: 0.8434\n",
      "Epoch 53/80\n",
      "84/84 - 14s - loss: 0.5372 - accuracy: 0.8458\n",
      "Epoch 54/80\n",
      "84/84 - 14s - loss: 0.5039 - accuracy: 0.8581\n",
      "Epoch 55/80\n",
      "84/84 - 14s - loss: 0.4911 - accuracy: 0.8623\n",
      "Epoch 56/80\n",
      "84/84 - 14s - loss: 0.4767 - accuracy: 0.8663\n",
      "Epoch 57/80\n",
      "84/84 - 14s - loss: 0.4443 - accuracy: 0.8779\n",
      "Epoch 58/80\n",
      "84/84 - 14s - loss: 0.4478 - accuracy: 0.8741\n",
      "Epoch 59/80\n",
      "84/84 - 14s - loss: 0.4213 - accuracy: 0.8840\n",
      "Epoch 60/80\n",
      "84/84 - 14s - loss: 0.4002 - accuracy: 0.8911\n",
      "Epoch 61/80\n",
      "84/84 - 14s - loss: 0.3790 - accuracy: 0.8986\n",
      "Epoch 62/80\n",
      "84/84 - 14s - loss: 0.3706 - accuracy: 0.9002\n",
      "Epoch 63/80\n",
      "84/84 - 14s - loss: 0.3705 - accuracy: 0.8993\n",
      "Epoch 64/80\n",
      "84/84 - 14s - loss: 0.3538 - accuracy: 0.9042\n",
      "Epoch 65/80\n",
      "84/84 - 14s - loss: 0.3213 - accuracy: 0.9174\n",
      "Epoch 66/80\n",
      "84/84 - 14s - loss: 0.3223 - accuracy: 0.9158\n",
      "Epoch 67/80\n",
      "84/84 - 14s - loss: 0.3059 - accuracy: 0.9209\n",
      "Epoch 68/80\n",
      "84/84 - 14s - loss: 0.2839 - accuracy: 0.9290\n",
      "Epoch 69/80\n",
      "84/84 - 13s - loss: 0.2842 - accuracy: 0.9273\n",
      "Epoch 70/80\n",
      "84/84 - 14s - loss: 0.2704 - accuracy: 0.9324\n",
      "Epoch 71/80\n",
      "84/84 - 14s - loss: 0.2408 - accuracy: 0.9426\n",
      "Epoch 72/80\n",
      "84/84 - 14s - loss: 0.2342 - accuracy: 0.9442\n",
      "Epoch 73/80\n",
      "84/84 - 14s - loss: 0.2285 - accuracy: 0.9452\n",
      "Epoch 74/80\n",
      "84/84 - 14s - loss: 0.2449 - accuracy: 0.9376\n",
      "Epoch 75/80\n",
      "84/84 - 14s - loss: 0.2384 - accuracy: 0.9399\n",
      "Epoch 76/80\n",
      "84/84 - 14s - loss: 0.2235 - accuracy: 0.9447\n",
      "Epoch 77/80\n",
      "84/84 - 14s - loss: 0.2321 - accuracy: 0.9401\n",
      "Epoch 78/80\n",
      "84/84 - 14s - loss: 0.2201 - accuracy: 0.9443\n",
      "Epoch 79/80\n",
      "84/84 - 14s - loss: 0.2030 - accuracy: 0.9503\n",
      "Epoch 80/80\n",
      "84/84 - 14s - loss: 0.1826 - accuracy: 0.9559\n"
     ]
    },
    {
     "data": {
      "text/plain": [
       "<tensorflow.python.keras.callbacks.History at 0x7f21540b6100>"
      ]
     },
     "execution_count": 17,
     "metadata": {},
     "output_type": "execute_result"
    }
   ],
   "source": [
    "model = Sequential()\n",
    "model.add(LSTM(256, input_shape=(None, train_X.shape[2]), return_sequences=True))\n",
    "model.add(LSTM(256, return_sequences=True))\n",
    "model.add(TimeDistributed(Dense(vocab_size, activation='softmax')))\n",
    "\n",
    "model.compile(loss='categorical_crossentropy', optimizer='adam', metrics=['accuracy'])\n",
    "model.fit(train_X, train_y, epochs=80, verbose=2)"
   ]
  },
  {
   "cell_type": "code",
   "execution_count": 18,
   "id": "0a8ac81a",
   "metadata": {},
   "outputs": [
    {
     "name": "stdout",
     "output_type": "stream",
     "text": [
      "45 번 글자 p 로 예측을 시작!\n",
      "plet. his, i do, alice thought this moment the door of the house opened, and the bil the chireer tha"
     ]
    },
    {
     "data": {
      "text/plain": [
       "'plet. his, i do, alice thought this moment the door of the house opened, and the bil the chireer that'"
      ]
     },
     "execution_count": 18,
     "metadata": {},
     "output_type": "execute_result"
    }
   ],
   "source": [
    "def sentence_generation(model, length):\n",
    "    ix = [np.random.randint(vocab_size)] # 글자에 대한 랜덤 인덱스 생성\n",
    "    y_char = [index_to_char[ix[-1]]] # 랜덤 인덱스로부터 글자 생성\n",
    "    print(ix[-1], '번 글자', y_char[-1], '로 예측을 시작!')\n",
    "    X = np.zeros((1, length, vocab_size)) # (1, length, 56) 크기의 X 생성 (=LSTM의 입력 시퀀스)\n",
    "    \n",
    "    for i in range(length):\n",
    "        X[0][i][ix[-1]] = 1 # X[0][i][예측한 글자의 인덱스] = 1; 예측한 글자를 다음 입력 시퀀스에 추가\n",
    "        print(index_to_char[ix[-1]], end=\"\")\n",
    "        ix = np.argmax(model.predict(X[:, :i+1, :])[0], 1)\n",
    "        y_char.append(index_to_char[ix[-1]])\n",
    "        \n",
    "    return ('').join(y_char)\n",
    "\n",
    "sentence_generation(model, 100)"
   ]
  },
  {
   "cell_type": "markdown",
   "id": "85fcf129",
   "metadata": {},
   "source": [
    "## 글자 단위 RNN(Char RNN)으로 텍스트 생성하기"
   ]
  },
  {
   "cell_type": "markdown",
   "id": "916a32b6",
   "metadata": {},
   "source": [
    "### 1. 데이터 처리"
   ]
  },
  {
   "cell_type": "code",
   "execution_count": null,
   "id": "9c18e606",
   "metadata": {},
   "outputs": [],
   "source": [
    "import numpy as np\n",
    "from tensorflow.keras.utils import to_categorical"
   ]
  },
  {
   "cell_type": "code",
   "execution_count": 19,
   "id": "36caa10d",
   "metadata": {},
   "outputs": [],
   "source": [
    "text='''\n",
    "I get on with life as a programmer,\n",
    "I like to contemplate beer.\n",
    "But when I start to daydream,\n",
    "My mind turns straight to wine.\n",
    "\n",
    "Do I love wine more than beer?\n",
    "\n",
    "I like to use words about beer.\n",
    "But when I stop my talking,\n",
    "My mind turns straight to wine.\n",
    "\n",
    "I hate bugs and errors.\n",
    "But I just think back to wine,\n",
    "And I'm happy once again.\n",
    "\n",
    "I like to hang out with programming and deep learning.\n",
    "But when left alone,\n",
    "My mind turns straight to wine.\n",
    "'''"
   ]
  },
  {
   "cell_type": "code",
   "execution_count": 20,
   "id": "4cc3cc14",
   "metadata": {},
   "outputs": [
    {
     "name": "stdout",
     "output_type": "stream",
     "text": [
      "I get on with life as a programmer, I like to contemplate beer. But when I start to daydream, My mind turns straight to wine. Do I love wine more than beer? I like to use words about beer. But when I stop my talking, My mind turns straight to wine. I hate bugs and errors. But I just think back to wine, And I'm happy once again. I like to hang out with programming and deep learning. But when left alone, My mind turns straight to wine.\n"
     ]
    }
   ],
   "source": [
    "tokens = text.split() # \\n 제거\n",
    "text = ' '.join(tokens)\n",
    "print(text)"
   ]
  },
  {
   "cell_type": "code",
   "execution_count": 21,
   "id": "c0c26d59",
   "metadata": {},
   "outputs": [
    {
     "name": "stdout",
     "output_type": "stream",
     "text": [
      "[' ', \"'\", ',', '.', '?', 'A', 'B', 'D', 'I', 'M', 'a', 'b', 'c', 'd', 'e', 'f', 'g', 'h', 'i', 'j', 'k', 'l', 'm', 'n', 'o', 'p', 'r', 's', 't', 'u', 'v', 'w', 'y']\n",
      "글자 집합의 크기 : 33\n"
     ]
    }
   ],
   "source": [
    "char_vocab = sorted(list(set(text))) # 중복을 제거한 글자 집합 생성\n",
    "print(char_vocab) # 알파벳, 구두점 단위\n",
    "\n",
    "vocab_size = len(char_vocab)\n",
    "print('글자 집합의 크기 : {}'.format(vocab_size))"
   ]
  },
  {
   "cell_type": "code",
   "execution_count": 22,
   "id": "90f1c8bb",
   "metadata": {},
   "outputs": [
    {
     "name": "stdout",
     "output_type": "stream",
     "text": [
      "{' ': 0, \"'\": 1, ',': 2, '.': 3, '?': 4, 'A': 5, 'B': 6, 'D': 7, 'I': 8, 'M': 9, 'a': 10, 'b': 11, 'c': 12, 'd': 13, 'e': 14, 'f': 15, 'g': 16, 'h': 17, 'i': 18, 'j': 19, 'k': 20, 'l': 21, 'm': 22, 'n': 23, 'o': 24, 'p': 25, 'r': 26, 's': 27, 't': 28, 'u': 29, 'v': 30, 'w': 31, 'y': 32}\n"
     ]
    }
   ],
   "source": [
    "char_to_index = dict((c, i) for i, c in enumerate(char_vocab))\n",
    "print(char_to_index)"
   ]
  },
  {
   "cell_type": "markdown",
   "id": "7b423eb1",
   "metadata": {},
   "source": [
    "stude -> n 예측<br>\n",
    "tuden -> t 예측"
   ]
  },
  {
   "cell_type": "code",
   "execution_count": 32,
   "id": "01119edb",
   "metadata": {},
   "outputs": [
    {
     "name": "stdout",
     "output_type": "stream",
     "text": [
      "총 훈련 샘플의 수; 426\n"
     ]
    },
    {
     "data": {
      "text/plain": [
       "['I get on wi',\n",
       " ' get on wit',\n",
       " 'get on with',\n",
       " 'et on with ',\n",
       " 't on with l',\n",
       " ' on with li',\n",
       " 'on with lif',\n",
       " 'n with life',\n",
       " ' with life ',\n",
       " 'with life a']"
      ]
     },
     "execution_count": 32,
     "metadata": {},
     "output_type": "execute_result"
    }
   ],
   "source": [
    "# 입력 시퀀스의 길이가 10이 되도록 데이터 구성\n",
    "length = 11 # 입력시퀀스 + 입력 대상 글자\n",
    "sequences = []\n",
    "\n",
    "for i in range(length, len(text)):\n",
    "    seq = text[i-length:i] # 길이 11의 문자열 생성\n",
    "    sequences.append(seq)\n",
    "    \n",
    "print('총 훈련 샘플의 수; %d' % len(sequences))\n",
    "sequences[:10]"
   ]
  },
  {
   "cell_type": "code",
   "execution_count": 33,
   "id": "7225e942",
   "metadata": {},
   "outputs": [
    {
     "name": "stdout",
     "output_type": "stream",
     "text": [
      "[8, 0, 16, 14, 28, 0, 24, 23, 0, 31, 18]\n",
      "[0, 16, 14, 28, 0, 24, 23, 0, 31, 18, 28]\n",
      "[16, 14, 28, 0, 24, 23, 0, 31, 18, 28, 17]\n",
      "[14, 28, 0, 24, 23, 0, 31, 18, 28, 17, 0]\n",
      "[28, 0, 24, 23, 0, 31, 18, 28, 17, 0, 21]\n"
     ]
    }
   ],
   "source": [
    "# 정수 인코딩\n",
    "X = []\n",
    "\n",
    "for line in sequences:\n",
    "    temp_X = [char_to_index[char] for char in line]\n",
    "    X.append(temp_X)\n",
    "\n",
    "for line in X[:5]:\n",
    "    print(line)"
   ]
  },
  {
   "cell_type": "code",
   "execution_count": 34,
   "id": "bc7eae04",
   "metadata": {},
   "outputs": [
    {
     "name": "stdout",
     "output_type": "stream",
     "text": [
      "[ 8  0 16 14 28  0 24 23  0 31]\n",
      "[ 0 16 14 28  0 24 23  0 31 18]\n",
      "[16 14 28  0 24 23  0 31 18 28]\n",
      "[14 28  0 24 23  0 31 18 28 17]\n",
      "[28  0 24 23  0 31 18 28 17  0]\n",
      "[18 28 17  0 21]\n"
     ]
    }
   ],
   "source": [
    "# 라벨 분리\n",
    "sequences = np.array(X)\n",
    "X = sequences[:,:-1]\n",
    "y = sequences[:,-1]\n",
    "\n",
    "for line in X[:5]:\n",
    "    print(line)\n",
    "print(y[:5])"
   ]
  },
  {
   "cell_type": "code",
   "execution_count": 35,
   "id": "4d3bf44a",
   "metadata": {},
   "outputs": [
    {
     "name": "stdout",
     "output_type": "stream",
     "text": [
      "(426, 10, 33)\n"
     ]
    }
   ],
   "source": [
    "# 원-핫 인코딩\n",
    "sequences = [to_categorical(x, num_classes=vocab_size) for x in X]\n",
    "X = np.array(sequences)\n",
    "y = to_categorical(y, num_classes=vocab_size)\n",
    "\n",
    "print(X.shape)\n",
    "'''\n",
    "    샘플 수 : 426개\n",
    "    입력 시퀀스의 길이: 10\n",
    "    각 벡터의 차원: 33\n",
    "'''"
   ]
  },
  {
   "cell_type": "markdown",
   "id": "9b494aa0",
   "metadata": {},
   "source": [
    "### 2. 모델 설계"
   ]
  },
  {
   "cell_type": "code",
   "execution_count": 36,
   "id": "bbdee25e",
   "metadata": {},
   "outputs": [],
   "source": [
    "from tensorflow.keras.models import Sequential\n",
    "from tensorflow.keras.layers import Dense, LSTM\n",
    "from tensorflow.keras.preprocessing.sequence import pad_sequences"
   ]
  },
  {
   "cell_type": "code",
   "execution_count": 37,
   "id": "e95f87f5",
   "metadata": {},
   "outputs": [
    {
     "name": "stdout",
     "output_type": "stream",
     "text": [
      "Epoch 1/100\n",
      "14/14 - 1s - loss: 3.4576 - accuracy: 0.1526\n",
      "Epoch 2/100\n",
      "14/14 - 0s - loss: 3.2922 - accuracy: 0.1972\n",
      "Epoch 3/100\n",
      "14/14 - 0s - loss: 3.0505 - accuracy: 0.1972\n",
      "Epoch 4/100\n",
      "14/14 - 0s - loss: 2.9816 - accuracy: 0.1972\n",
      "Epoch 5/100\n",
      "14/14 - 0s - loss: 2.9433 - accuracy: 0.1972\n",
      "Epoch 6/100\n",
      "14/14 - 0s - loss: 2.9259 - accuracy: 0.1972\n",
      "Epoch 7/100\n",
      "14/14 - 0s - loss: 2.9177 - accuracy: 0.1972\n",
      "Epoch 8/100\n",
      "14/14 - 0s - loss: 2.8888 - accuracy: 0.1972\n",
      "Epoch 9/100\n",
      "14/14 - 0s - loss: 2.8698 - accuracy: 0.1972\n",
      "Epoch 10/100\n",
      "14/14 - 0s - loss: 2.8388 - accuracy: 0.1972\n",
      "Epoch 11/100\n",
      "14/14 - 0s - loss: 2.8045 - accuracy: 0.1972\n",
      "Epoch 12/100\n",
      "14/14 - 0s - loss: 2.7640 - accuracy: 0.2019\n",
      "Epoch 13/100\n",
      "14/14 - 0s - loss: 2.7170 - accuracy: 0.2089\n",
      "Epoch 14/100\n",
      "14/14 - 0s - loss: 2.6814 - accuracy: 0.2300\n",
      "Epoch 15/100\n",
      "14/14 - 0s - loss: 2.6442 - accuracy: 0.2512\n",
      "Epoch 16/100\n",
      "14/14 - 0s - loss: 2.5779 - accuracy: 0.2512\n",
      "Epoch 17/100\n",
      "14/14 - 0s - loss: 2.5259 - accuracy: 0.2535\n",
      "Epoch 18/100\n",
      "14/14 - 0s - loss: 2.4691 - accuracy: 0.3099\n",
      "Epoch 19/100\n",
      "14/14 - 0s - loss: 2.4085 - accuracy: 0.3075\n",
      "Epoch 20/100\n",
      "14/14 - 0s - loss: 2.3437 - accuracy: 0.3286\n",
      "Epoch 21/100\n",
      "14/14 - 0s - loss: 2.2974 - accuracy: 0.3333\n",
      "Epoch 22/100\n",
      "14/14 - 0s - loss: 2.2210 - accuracy: 0.3638\n",
      "Epoch 23/100\n",
      "14/14 - 0s - loss: 2.1787 - accuracy: 0.3638\n",
      "Epoch 24/100\n",
      "14/14 - 0s - loss: 2.1273 - accuracy: 0.3803\n",
      "Epoch 25/100\n",
      "14/14 - 0s - loss: 2.0645 - accuracy: 0.4131\n",
      "Epoch 26/100\n",
      "14/14 - 0s - loss: 2.0329 - accuracy: 0.4155\n",
      "Epoch 27/100\n",
      "14/14 - 0s - loss: 1.9526 - accuracy: 0.4624\n",
      "Epoch 28/100\n",
      "14/14 - 0s - loss: 1.9216 - accuracy: 0.4531\n",
      "Epoch 29/100\n",
      "14/14 - 0s - loss: 1.8546 - accuracy: 0.4953\n",
      "Epoch 30/100\n",
      "14/14 - 0s - loss: 1.8107 - accuracy: 0.5141\n",
      "Epoch 31/100\n",
      "14/14 - 0s - loss: 1.7672 - accuracy: 0.5211\n",
      "Epoch 32/100\n",
      "14/14 - 0s - loss: 1.7167 - accuracy: 0.5540\n",
      "Epoch 33/100\n",
      "14/14 - 0s - loss: 1.6674 - accuracy: 0.5540\n",
      "Epoch 34/100\n",
      "14/14 - 0s - loss: 1.6209 - accuracy: 0.5962\n",
      "Epoch 35/100\n",
      "14/14 - 0s - loss: 1.5606 - accuracy: 0.5892\n",
      "Epoch 36/100\n",
      "14/14 - 0s - loss: 1.5096 - accuracy: 0.6291\n",
      "Epoch 37/100\n",
      "14/14 - 0s - loss: 1.4660 - accuracy: 0.6315\n",
      "Epoch 38/100\n",
      "14/14 - 0s - loss: 1.4193 - accuracy: 0.6502\n",
      "Epoch 39/100\n",
      "14/14 - 0s - loss: 1.3733 - accuracy: 0.6596\n",
      "Epoch 40/100\n",
      "14/14 - 0s - loss: 1.3328 - accuracy: 0.6643\n",
      "Epoch 41/100\n",
      "14/14 - 0s - loss: 1.2929 - accuracy: 0.6854\n",
      "Epoch 42/100\n",
      "14/14 - 0s - loss: 1.2883 - accuracy: 0.6854\n",
      "Epoch 43/100\n",
      "14/14 - 0s - loss: 1.2293 - accuracy: 0.6878\n",
      "Epoch 44/100\n",
      "14/14 - 0s - loss: 1.1984 - accuracy: 0.6995\n",
      "Epoch 45/100\n",
      "14/14 - 0s - loss: 1.1348 - accuracy: 0.7207\n",
      "Epoch 46/100\n",
      "14/14 - 0s - loss: 1.0793 - accuracy: 0.7371\n",
      "Epoch 47/100\n",
      "14/14 - 0s - loss: 1.0350 - accuracy: 0.7394\n",
      "Epoch 48/100\n",
      "14/14 - 0s - loss: 0.9944 - accuracy: 0.7770\n",
      "Epoch 49/100\n",
      "14/14 - 0s - loss: 0.9548 - accuracy: 0.7723\n",
      "Epoch 50/100\n",
      "14/14 - 0s - loss: 0.9235 - accuracy: 0.7840\n",
      "Epoch 51/100\n",
      "14/14 - 0s - loss: 0.8918 - accuracy: 0.8146\n",
      "Epoch 52/100\n",
      "14/14 - 0s - loss: 0.8717 - accuracy: 0.8052\n",
      "Epoch 53/100\n",
      "14/14 - 0s - loss: 0.8252 - accuracy: 0.8192\n",
      "Epoch 54/100\n",
      "14/14 - 0s - loss: 0.7941 - accuracy: 0.8286\n",
      "Epoch 55/100\n",
      "14/14 - 0s - loss: 0.7682 - accuracy: 0.8310\n",
      "Epoch 56/100\n",
      "14/14 - 0s - loss: 0.7225 - accuracy: 0.8474\n",
      "Epoch 57/100\n",
      "14/14 - 0s - loss: 0.6986 - accuracy: 0.8568\n",
      "Epoch 58/100\n",
      "14/14 - 0s - loss: 0.6722 - accuracy: 0.8709\n",
      "Epoch 59/100\n",
      "14/14 - 0s - loss: 0.6320 - accuracy: 0.8779\n",
      "Epoch 60/100\n",
      "14/14 - 0s - loss: 0.6191 - accuracy: 0.8779\n",
      "Epoch 61/100\n",
      "14/14 - 0s - loss: 0.5928 - accuracy: 0.8944\n",
      "Epoch 62/100\n",
      "14/14 - 0s - loss: 0.5748 - accuracy: 0.8944\n",
      "Epoch 63/100\n",
      "14/14 - 0s - loss: 0.5537 - accuracy: 0.9085\n",
      "Epoch 64/100\n",
      "14/14 - 0s - loss: 0.5087 - accuracy: 0.9225\n",
      "Epoch 65/100\n",
      "14/14 - 0s - loss: 0.4953 - accuracy: 0.9225\n",
      "Epoch 66/100\n",
      "14/14 - 0s - loss: 0.4755 - accuracy: 0.9319\n",
      "Epoch 67/100\n",
      "14/14 - 0s - loss: 0.4682 - accuracy: 0.9249\n",
      "Epoch 68/100\n",
      "14/14 - 0s - loss: 0.4292 - accuracy: 0.9460\n",
      "Epoch 69/100\n",
      "14/14 - 0s - loss: 0.4155 - accuracy: 0.9343\n",
      "Epoch 70/100\n",
      "14/14 - 0s - loss: 0.3931 - accuracy: 0.9437\n",
      "Epoch 71/100\n",
      "14/14 - 0s - loss: 0.3774 - accuracy: 0.9507\n",
      "Epoch 72/100\n",
      "14/14 - 0s - loss: 0.3546 - accuracy: 0.9577\n",
      "Epoch 73/100\n",
      "14/14 - 0s - loss: 0.3561 - accuracy: 0.9648\n",
      "Epoch 74/100\n",
      "14/14 - 0s - loss: 0.3398 - accuracy: 0.9624\n",
      "Epoch 75/100\n",
      "14/14 - 0s - loss: 0.3446 - accuracy: 0.9624\n",
      "Epoch 76/100\n",
      "14/14 - 0s - loss: 0.3137 - accuracy: 0.9648\n",
      "Epoch 77/100\n",
      "14/14 - 0s - loss: 0.2990 - accuracy: 0.9671\n",
      "Epoch 78/100\n",
      "14/14 - 0s - loss: 0.2817 - accuracy: 0.9718\n",
      "Epoch 79/100\n",
      "14/14 - 0s - loss: 0.2734 - accuracy: 0.9789\n",
      "Epoch 80/100\n",
      "14/14 - 0s - loss: 0.2623 - accuracy: 0.9789\n",
      "Epoch 81/100\n",
      "14/14 - 0s - loss: 0.2569 - accuracy: 0.9812\n",
      "Epoch 82/100\n",
      "14/14 - 0s - loss: 0.2543 - accuracy: 0.9742\n",
      "Epoch 83/100\n",
      "14/14 - 0s - loss: 0.2402 - accuracy: 0.9742\n",
      "Epoch 84/100\n",
      "14/14 - 0s - loss: 0.2295 - accuracy: 0.9812\n",
      "Epoch 85/100\n",
      "14/14 - 0s - loss: 0.2270 - accuracy: 0.9789\n",
      "Epoch 86/100\n",
      "14/14 - 0s - loss: 0.2166 - accuracy: 0.9789\n",
      "Epoch 87/100\n",
      "14/14 - 0s - loss: 0.2047 - accuracy: 0.9812\n",
      "Epoch 88/100\n",
      "14/14 - 0s - loss: 0.2036 - accuracy: 0.9765\n",
      "Epoch 89/100\n",
      "14/14 - 0s - loss: 0.1941 - accuracy: 0.9812\n",
      "Epoch 90/100\n",
      "14/14 - 0s - loss: 0.1849 - accuracy: 0.9812\n",
      "Epoch 91/100\n",
      "14/14 - 0s - loss: 0.1826 - accuracy: 0.9859\n",
      "Epoch 92/100\n",
      "14/14 - 0s - loss: 0.1747 - accuracy: 0.9812\n",
      "Epoch 93/100\n",
      "14/14 - 0s - loss: 0.1739 - accuracy: 0.9812\n",
      "Epoch 94/100\n",
      "14/14 - 0s - loss: 0.1676 - accuracy: 0.9812\n",
      "Epoch 95/100\n",
      "14/14 - 0s - loss: 0.1715 - accuracy: 0.9765\n",
      "Epoch 96/100\n",
      "14/14 - 0s - loss: 0.1600 - accuracy: 0.9836\n",
      "Epoch 97/100\n",
      "14/14 - 0s - loss: 0.1619 - accuracy: 0.9789\n",
      "Epoch 98/100\n",
      "14/14 - 0s - loss: 0.1482 - accuracy: 0.9765\n",
      "Epoch 99/100\n",
      "14/14 - 0s - loss: 0.1444 - accuracy: 0.9859\n",
      "Epoch 100/100\n",
      "14/14 - 0s - loss: 0.1373 - accuracy: 0.9859\n"
     ]
    },
    {
     "data": {
      "text/plain": [
       "<tensorflow.python.keras.callbacks.History at 0x7f211019b6d0>"
      ]
     },
     "execution_count": 37,
     "metadata": {},
     "output_type": "execute_result"
    }
   ],
   "source": [
    "model = Sequential()\n",
    "model.add(LSTM(80, input_shape=(X.shape[1], X.shape[2])))\n",
    "model.add(Dense(vocab_size, activation='softmax'))\n",
    "\n",
    "model.compile(loss='categorical_crossentropy', optimizer='adam', metrics=['accuracy'])\n",
    "model.fit(X, y, epochs=100, verbose=2)"
   ]
  },
  {
   "cell_type": "code",
   "execution_count": 38,
   "id": "32d4dda6",
   "metadata": {},
   "outputs": [
    {
     "name": "stderr",
     "output_type": "stream",
     "text": [
      "/home/yeon_28/anaconda3/envs/nlp/lib/python3.8/site-packages/tensorflow/python/keras/engine/sequential.py:450: UserWarning: `model.predict_classes()` is deprecated and will be removed after 2021-01-01. Please use instead:* `np.argmax(model.predict(x), axis=-1)`,   if your model does multi-class classification   (e.g. if it uses a `softmax` last-layer activation).* `(model.predict(x) > 0.5).astype(\"int32\")`,   if your model does binary classification   (e.g. if it uses a `sigmoid` last-layer activation).\n",
      "  warnings.warn('`model.predict_classes()` is deprecated and '\n"
     ]
    },
    {
     "name": "stdout",
     "output_type": "stream",
     "text": [
      "I get on with life as a programmer, I like to use words about beer. But when I stap m o aa\n"
     ]
    }
   ],
   "source": [
    "def sentence_generation(model, char_to_index, seq_length, seed_text, n):\n",
    "# 모델, 인덱스 정보, 문장 길이, 초기 시퀀스, 반복 횟수\n",
    "    init_text = seed_text # 문장 생성에 사용할 초기 시퀀스\n",
    "    sentence = ''\n",
    "\n",
    "    for _ in range(n): # n번 반복\n",
    "        encoded = [char_to_index[char] for char in seed_text] # 현재 시퀀스에 대한 정수 인코딩\n",
    "        encoded = pad_sequences([encoded], maxlen=seq_length, padding='pre') # 데이터에 대한 패딩\n",
    "        encoded = to_categorical(encoded, num_classes=len(char_to_index))\n",
    "        result = model.predict_classes(encoded, verbose=0)\n",
    "        # 입력한 X(현재 시퀀스)에 대해서 y를 예측하고 y(예측한 글자)를 result에 저장.\n",
    "        for char, index in char_to_index.items(): # 만약 예측한 글자와 인덱스와 동일한 글자가 있다면\n",
    "            if index == result: # 해당 글자가 예측 글자이므로 break\n",
    "                break\n",
    "        seed_text=seed_text + char # 현재 시퀀스 + 예측 글자를 현재 시퀀스로 변경\n",
    "        sentence=sentence + char # 예측 글자를 문장에 저장\n",
    "        # for문이므로 이 작업을 다시 반복\n",
    "\n",
    "    sentence = init_text + sentence\n",
    "    return sentence\n",
    "\n",
    "print(sentence_generation(model, char_to_index, 10, 'I get on w', 80))"
   ]
  },
  {
   "cell_type": "code",
   "execution_count": null,
   "id": "5b918557",
   "metadata": {},
   "outputs": [],
   "source": []
  }
 ],
 "metadata": {
  "kernelspec": {
   "display_name": "Python 3",
   "language": "python",
   "name": "python3"
  },
  "language_info": {
   "codemirror_mode": {
    "name": "ipython",
    "version": 3
   },
   "file_extension": ".py",
   "mimetype": "text/x-python",
   "name": "python",
   "nbconvert_exporter": "python",
   "pygments_lexer": "ipython3",
   "version": "3.8.8"
  }
 },
 "nbformat": 4,
 "nbformat_minor": 5
}
