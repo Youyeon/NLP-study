{
 "cells": [
  {
   "cell_type": "markdown",
   "id": "cab973ca",
   "metadata": {},
   "source": [
    "# 8-8 케라스 서브클래싱 API(Keras Subclassing API)"
   ]
  },
  {
   "cell_type": "code",
   "execution_count": 5,
   "id": "0ea0a361",
   "metadata": {},
   "outputs": [],
   "source": [
    "# Subclassing API\n",
    "import tensorflow as tf\n",
    "\n",
    "class LinearRegression(tf.keras.Model):\n",
    "    def __init__(self): # 객체 생성 시 호출\n",
    "        super(LinearRegression, self).__init__()\n",
    "        self.linear_layer = tf.keras.layers.Dense(1, input_dim=1, activation='linear')\n",
    "        \n",
    "    def call(self, x):\n",
    "        y_pred = self.linear_layer(x)\n",
    "        return y_pred"
   ]
  },
  {
   "cell_type": "code",
   "execution_count": 8,
   "id": "4d122609",
   "metadata": {
    "scrolled": true
   },
   "outputs": [],
   "source": [
    "from tensorflow.keras import optimizers\n",
    "\n",
    "X = [1, 2, 3, 4, 5, 6, 7, 8, 9] # 공부하는 시간\n",
    "y = [11, 22, 33, 44, 53, 66, 77, 87, 95] # 각 공부하는 시간에 맵핑되는 성적\n",
    "\n",
    "model = LinearRegression()\n",
    "\n",
    "sgd = optimizers.SGD(lr=0.01)\n",
    "model.compile(optimizer=sgd, loss='mse', metrics=['mse'])\n",
    "model.fit(X, y, batch_size=1, epochs=300, shuffle=False)"
   ]
  },
  {
   "cell_type": "code",
   "execution_count": null,
   "id": "27eebe30",
   "metadata": {},
   "outputs": [],
   "source": [
    "'''\n",
    "    Sequential API: 간단한 모델 구현에 적합.\n",
    "    Functional API: Sequential API로 구현할 수 없는 복잡한 모델 구현 가능\n",
    "                    딥러닝 모델을 DAG(Directed Acyclic Graph)로 취급함.\n",
    "    Sequential API: Functional API로 구현할 수 없는 DAG에 속하지 않는 재귀 네트워크, 트리 RNN 등을 구현할 수 있음.\n",
    "                    코드 사용이 까다로움.\n",
    "'''"
   ]
  }
 ],
 "metadata": {
  "kernelspec": {
   "display_name": "Python 3",
   "language": "python",
   "name": "python3"
  },
  "language_info": {
   "codemirror_mode": {
    "name": "ipython",
    "version": 3
   },
   "file_extension": ".py",
   "mimetype": "text/x-python",
   "name": "python",
   "nbconvert_exporter": "python",
   "pygments_lexer": "ipython3",
   "version": "3.8.8"
  }
 },
 "nbformat": 4,
 "nbformat_minor": 5
}
