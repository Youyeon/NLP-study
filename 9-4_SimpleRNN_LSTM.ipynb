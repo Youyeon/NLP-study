{
 "cells": [
  {
   "cell_type": "markdown",
   "id": "91ee5325",
   "metadata": {},
   "source": [
    "# 케라스의 SimpleRNN과 LSTM 이해하기"
   ]
  },
  {
   "cell_type": "code",
   "execution_count": 1,
   "id": "74843a83",
   "metadata": {},
   "outputs": [],
   "source": [
    "import numpy as np\n",
    "import tensorflow as tf\n",
    "from tensorflow.keras.layers import SimpleRNN, LSTM, Bidirectional"
   ]
  },
  {
   "cell_type": "code",
   "execution_count": 2,
   "id": "0c957eb7",
   "metadata": {},
   "outputs": [
    {
     "name": "stdout",
     "output_type": "stream",
     "text": [
      "(4, 5)\n"
     ]
    }
   ],
   "source": [
    "# 단어 벡터의 차원=5, 문장의 길이=4\n",
    "train_X = [[0.1, 4.2, 1.5, 1.1, 2.8], \n",
    "           [1.0, 3.1, 2.5, 0.7, 1.1], \n",
    "           [0.3, 2.1, 1.5, 2.1, 0.1], \n",
    "           [2.2, 1.4, 0.5, 0.9, 1.1]]\n",
    "print(np.shape(train_X))"
   ]
  },
  {
   "cell_type": "code",
   "execution_count": 3,
   "id": "4f0dc3b2",
   "metadata": {},
   "outputs": [
    {
     "name": "stdout",
     "output_type": "stream",
     "text": [
      "(1, 4, 5)\n"
     ]
    }
   ],
   "source": [
    "# RNN의 입력은 3D 텐서 - 배치 크기 추가\n",
    "train_X = [[[0.1, 4.2, 1.5, 1.1, 2.8], \n",
    "            [1.0, 3.1, 2.5, 0.7, 1.1], \n",
    "            [0.3, 2.1, 1.5, 2.1, 0.1], \n",
    "            [2.2, 1.4, 0.5, 0.9, 1.1]]]\n",
    "train_X = np.array(train_X, dtype=np.float32)\n",
    "print(train_X.shape) # (batch_size, timesteps, input_dim)"
   ]
  },
  {
   "cell_type": "markdown",
   "id": "52e78e14",
   "metadata": {},
   "source": [
    "## 1. SimpleRNN"
   ]
  },
  {
   "cell_type": "code",
   "execution_count": 5,
   "id": "81f68550",
   "metadata": {},
   "outputs": [
    {
     "name": "stdout",
     "output_type": "stream",
     "text": [
      "hidden_state: [[-0.9967098  -0.87812924 -0.3390168 ]], shape: (1, 3)\n"
     ]
    }
   ],
   "source": [
    "rnn = SimpleRNN(3) # return_sequences=False, return_state=False\n",
    "hidden_state = rnn(train_X) # 하나 리턴\n",
    "\n",
    "# 마지막 시점의 은닉 상태\n",
    "print('hidden_state: {}, shape: {}'.format(hidden_state, hidden_state.shape))"
   ]
  },
  {
   "cell_type": "code",
   "execution_count": 6,
   "id": "f137b215",
   "metadata": {},
   "outputs": [
    {
     "name": "stdout",
     "output_type": "stream",
     "text": [
      "hidden states : [[[-0.08247936  0.6159755  -0.99908835]\n",
      "  [-0.812468    0.5637501  -0.9922486 ]\n",
      "  [-0.8988107  -0.7688197  -0.9942987 ]\n",
      "  [ 0.7542793   0.9940191   0.18331288]]], shape: (1, 4, 3)\n"
     ]
    }
   ],
   "source": [
    "rnn = SimpleRNN(3, return_sequences=True) # return_state=False\n",
    "hidden_states = rnn(train_X) # 하나 리턴\n",
    "\n",
    "# 모든 시점의 은닉 상태\n",
    "print('hidden states : {}, shape: {}'.format(hidden_states, hidden_states.shape))"
   ]
  },
  {
   "cell_type": "code",
   "execution_count": 9,
   "id": "33695cbe",
   "metadata": {},
   "outputs": [
    {
     "name": "stdout",
     "output_type": "stream",
     "text": [
      "hidden state : [[0.7955736  0.41378158 0.1346554 ]], shape: (1, 3)\n",
      "last hidden state : [[0.7955736  0.41378158 0.1346554 ]], shape: (1, 3)\n"
     ]
    }
   ],
   "source": [
    "rnn = SimpleRNN(3, return_state=True) # return_sequences=False\n",
    "hidden_state, last_state = rnn(train_X) # 두개 리턴\n",
    "\n",
    "# 마지막 시점의 은닉 상태\n",
    "print('hidden state : {}, shape: {}'.format(hidden_state, hidden_state.shape))\n",
    "print('last hidden state : {}, shape: {}'.format(last_state, last_state.shape))"
   ]
  },
  {
   "cell_type": "code",
   "execution_count": 7,
   "id": "a481a718",
   "metadata": {},
   "outputs": [
    {
     "name": "stdout",
     "output_type": "stream",
     "text": [
      "hidden states : [[[-0.03534397  0.9727898  -0.9988976 ]\n",
      "  [ 0.9122617   0.09265384 -0.99911284]\n",
      "  [ 0.9466134  -0.55583745 -0.9983327 ]\n",
      "  [ 0.7517583  -0.1131636   0.17865638]]], shape: (1, 4, 3)\n",
      "last hidden state : [[ 0.7517583  -0.1131636   0.17865638]], shape: (1, 3)\n"
     ]
    }
   ],
   "source": [
    "rnn = SimpleRNN(3, return_sequences=True, return_state=True)\n",
    "hidden_states, last_state = rnn(train_X) # 두개 리턴\n",
    "\n",
    "print('hidden states : {}, shape: {}'.format(hidden_states, hidden_states.shape))\n",
    "print('last hidden state : {}, shape: {}'.format(last_state, last_state.shape))"
   ]
  },
  {
   "cell_type": "markdown",
   "id": "67e7c116",
   "metadata": {},
   "source": [
    "## 2. LSTM"
   ]
  },
  {
   "cell_type": "code",
   "execution_count": 13,
   "id": "2aff9b2d",
   "metadata": {},
   "outputs": [
    {
     "name": "stdout",
     "output_type": "stream",
     "text": [
      "hidden state : [[-0.0773441 -0.6716873  0.3294218]], shape: (1, 3)\n",
      "last hidden state : [[-0.0773441 -0.6716873  0.3294218]], shape: (1, 3)\n",
      "last cell state : [[-0.09885489 -1.0926687   0.5672389 ]], shape: (1, 3)\n"
     ]
    }
   ],
   "source": [
    "lstm = LSTM(3, return_sequences=False, return_state=True)\n",
    "hidden_state, last_state, last_cell_state = lstm(train_X) # 세개 리턴\n",
    "\n",
    "# 마지막 시점의 은닉 상태, 셀 상태\n",
    "print('hidden state : {}, shape: {}'.format(hidden_state, hidden_state.shape))\n",
    "print('last hidden state : {}, shape: {}'.format(last_state, last_state.shape))\n",
    "print('last cell state : {}, shape: {}'.format(last_cell_state, last_cell_state.shape))"
   ]
  },
  {
   "cell_type": "code",
   "execution_count": 14,
   "id": "5c2af3c2",
   "metadata": {},
   "outputs": [
    {
     "name": "stdout",
     "output_type": "stream",
     "text": [
      "hidden states : [[[0.18967618 0.04214519 0.21109577]\n",
      "  [0.2989427  0.17905194 0.20693749]\n",
      "  [0.3543825  0.21613444 0.19326994]\n",
      "  [0.44900817 0.07185657 0.22520518]]], shape: (1, 4, 3)\n",
      "last hidden state : [[0.44900817 0.07185657 0.22520518]], shape: (1, 3)\n",
      "last cell state : [[0.5511633  0.43143135 0.7207825 ]], shape: (1, 3)\n"
     ]
    }
   ],
   "source": [
    "lstm = LSTM(3, return_sequences=True, return_state=True)\n",
    "hidden_states, last_hidden_state, last_cell_state = lstm(train_X) # 세개 리턴\n",
    "\n",
    "# 모든 시점의 은닉 상태, 마지막 시점의 은닉 상태, 셀 상태\n",
    "print('hidden states : {}, shape: {}'.format(hidden_states, hidden_states.shape))\n",
    "print('last hidden state : {}, shape: {}'.format(last_hidden_state, last_hidden_state.shape))\n",
    "print('last cell state : {}, shape: {}'.format(last_cell_state, last_cell_state.shape))"
   ]
  },
  {
   "cell_type": "markdown",
   "id": "b34e0920",
   "metadata": {},
   "source": [
    "## Bidirectional(LSTM)"
   ]
  },
  {
   "cell_type": "code",
   "execution_count": 16,
   "id": "c2283b5b",
   "metadata": {},
   "outputs": [],
   "source": [
    "# 은닉 상태 값 고정\n",
    "k_init = tf.keras.initializers.Constant(value=0.1)\n",
    "b_init = tf.keras.initializers.Constant(value=0)\n",
    "r_init = tf.keras.initializers.Constant(value=0.1)"
   ]
  },
  {
   "cell_type": "code",
   "execution_count": 17,
   "id": "0932c023",
   "metadata": {},
   "outputs": [
    {
     "name": "stdout",
     "output_type": "stream",
     "text": [
      "hidden states : [[0.63031393 0.63031393 0.63031393 0.7038734  0.7038734  0.7038734 ]], shape: (1, 6)\n",
      "forward state : [[0.63031393 0.63031393 0.63031393]], shape: (1, 3)\n",
      "backward state : [[0.7038734 0.7038734 0.7038734]], shape: (1, 3)\n"
     ]
    }
   ],
   "source": [
    "bilstm = Bidirectional(LSTM(3, return_sequences=False, return_state=True, \n",
    "                            kernel_initializer=k_init, \n",
    "                            bias_initializer=b_init, \n",
    "                            recurrent_initializer=r_init))\n",
    "hidden_states, forward_h, forward_c, backward_h, backward_c = bilstm(train_X)\n",
    "\n",
    "# 은닉 상태, 정방향 LSTM의 마지막 시점의 은닉 상태, 역방향 LSTM의 첫번째 시점의 은닉 상태\n",
    "print('hidden states : {}, shape: {}'.format(hidden_states, hidden_states.shape))\n",
    "print('forward state : {}, shape: {}'.format(forward_h, forward_h.shape))\n",
    "print('backward state : {}, shape: {}'.format(backward_h, backward_h.shape))"
   ]
  },
  {
   "cell_type": "code",
   "execution_count": 18,
   "id": "3eb274d7",
   "metadata": {},
   "outputs": [
    {
     "name": "stdout",
     "output_type": "stream",
     "text": [
      "hidden states : [[[0.35906473 0.35906473 0.35906473 0.7038734  0.7038734  0.7038734 ]\n",
      "  [0.5511133  0.5511133  0.5511133  0.58863586 0.58863586 0.58863586]\n",
      "  [0.59115744 0.59115744 0.59115744 0.3951699  0.3951699  0.3951699 ]\n",
      "  [0.63031393 0.63031393 0.63031393 0.21942244 0.21942244 0.21942244]]], shape: (1, 4, 6)\n",
      "forward state : [[0.63031393 0.63031393 0.63031393]], shape: (1, 3)\n",
      "backward state : [[0.7038734 0.7038734 0.7038734]], shape: (1, 3)\n"
     ]
    }
   ],
   "source": [
    "bilstm = Bidirectional(LSTM(3, return_sequences=True, return_state=True, \n",
    "                            kernel_initializer=k_init, \n",
    "                            bias_initializer=b_init, \n",
    "                            recurrent_initializer=r_init))\n",
    "hidden_states, forward_h, forward_c, backward_h, backward_c = bilstm(train_X)\n",
    "\n",
    "print('hidden states : {}, shape: {}'.format(hidden_states, hidden_states.shape))\n",
    "print('forward state : {}, shape: {}'.format(forward_h, forward_h.shape))\n",
    "print('backward state : {}, shape: {}'.format(backward_h, backward_h.shape))"
   ]
  },
  {
   "cell_type": "code",
   "execution_count": null,
   "id": "24fa5424",
   "metadata": {},
   "outputs": [],
   "source": []
  }
 ],
 "metadata": {
  "kernelspec": {
   "display_name": "Python 3",
   "language": "python",
   "name": "python3"
  },
  "language_info": {
   "codemirror_mode": {
    "name": "ipython",
    "version": 3
   },
   "file_extension": ".py",
   "mimetype": "text/x-python",
   "name": "python",
   "nbconvert_exporter": "python",
   "pygments_lexer": "ipython3",
   "version": "3.8.8"
  }
 },
 "nbformat": 4,
 "nbformat_minor": 5
}
