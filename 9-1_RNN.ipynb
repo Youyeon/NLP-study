{
 "cells": [
  {
   "cell_type": "markdown",
   "id": "6ec785e9",
   "metadata": {},
   "source": [
    "# 순환 신경망(Recurrent Neural Network, RNN)"
   ]
  },
  {
   "cell_type": "code",
   "execution_count": null,
   "id": "cb1e685c",
   "metadata": {},
   "outputs": [],
   "source": [
    "'''\n",
    "    hidden_size: 은닉 상태의 크기 정의. (=output_dim)\n",
    "                RNN의 capacity 결정.\n",
    "    timesteps: 입력 시퀀스의 길이. (=input_length)\n",
    "    input_dim: 입력의 크기.\n",
    "'''\n",
    "# 추가 인자를 사용할 때\n",
    "model.add(SimpleRNN(hidden_size, input_shape=(timesteps, input_dim)))\n",
    "\n",
    "# 다른 표기\n",
    "model.add(SimpleRNN(hidden_size, input_length=M, input_dim=N))\n",
    "# 단, M과 N은 정수"
   ]
  },
  {
   "cell_type": "code",
   "execution_count": null,
   "id": "7bf239ed",
   "metadata": {},
   "outputs": [],
   "source": [
    "'''\n",
    "    Input: (batch_size, timesteps, input_dim) 크기의 3D 텐서를 입력으로 받음.\n",
    "\n",
    "    Output:\n",
    "        1) 메모리 셀의 최종 시점의 은닉 상태만 리턴\n",
    "            (batch_size, output_dim) 크기의 2D 텐서 리턴\n",
    "            Many-to-one problem\n",
    "        2) 메모리 셀의 각 시점(time step)의 은닉 상태 값들을 모아 전체 시퀀스를 리턴\n",
    "            (batch_size, timesteps, output_dim) 크기의 3D 텐서 리턴\n",
    "            Many-to-many problem\n",
    "        \n",
    "        >> RNN 층의 return_sequences=True/False 설정으로 설정 가능.\n",
    "'''"
   ]
  },
  {
   "cell_type": "markdown",
   "id": "33d4bb8c",
   "metadata": {},
   "source": [
    "## RNN 구현\n",
    "$$h_{t} = tanh(W_{x}X_{t} + W_{h}h_{t−1} + b)$$"
   ]
  },
  {
   "cell_type": "code",
   "execution_count": null,
   "id": "95bfee44",
   "metadata": {},
   "outputs": [],
   "source": [
    "# 수도코드\n",
    "hidden_state = 0\n",
    "for input_t in input_length: # 각 시점마다\n",
    "    output_t = tanh(input_t, hidden_state_t) # 입력, 은닉 상태를 가지고 연산\n",
    "    hidden_state_t = output_t # 현재 시점의 은닉 상태 = 계산 결과 (업데이트)"
   ]
  },
  {
   "cell_type": "code",
   "execution_count": 9,
   "id": "69914137",
   "metadata": {},
   "outputs": [],
   "source": [
    "import numpy as np\n",
    "\n",
    "# 파라미터\n",
    "timesteps = 10 # 시점의 수 (NLP: 문장의 수)\n",
    "input_dim = 4 # 입력의 차원 (NLP: 단어 벡터의 차원)\n",
    "hidden_size = 8 # 은닉 상태의 크기 (메모리 셀의 용량)"
   ]
  },
  {
   "cell_type": "code",
   "execution_count": 10,
   "id": "81c9e000",
   "metadata": {},
   "outputs": [],
   "source": [
    "inputs = np.random.random((timesteps, input_dim)) # 입력에 해당하는 2D텐서\n",
    "hidden_state_t = np.zeros((hidden_size,)) # 초기 은닉 상태. 0(벡터)로 초기화"
   ]
  },
  {
   "cell_type": "code",
   "execution_count": 19,
   "id": "89ed5cba",
   "metadata": {},
   "outputs": [
    {
     "name": "stdout",
     "output_type": "stream",
     "text": [
      "(8, 4)\n",
      "(8, 8)\n",
      "(8,)\n"
     ]
    }
   ],
   "source": [
    "Wx= np.random.random((hidden_size, input_dim)) # 입력에 대한 가중치\n",
    "Wh = np.random.random((hidden_size, hidden_size)) # 은닉 상태에 대한 가중치\n",
    "b = np.random.random((hidden_size, )) # bias\n",
    "\n",
    "print(np.shape(Wx))\n",
    "print(np.shape(Wh))\n",
    "print(np.shape(b))"
   ]
  },
  {
   "cell_type": "code",
   "execution_count": 20,
   "id": "dab4470f",
   "metadata": {},
   "outputs": [
    {
     "name": "stdout",
     "output_type": "stream",
     "text": [
      "(1, 8)\n",
      "(2, 8)\n",
      "(3, 8)\n",
      "(4, 8)\n",
      "(5, 8)\n",
      "(6, 8)\n",
      "(7, 8)\n",
      "(8, 8)\n",
      "(9, 8)\n",
      "(10, 8)\n",
      "[[0.90376893 0.98994645 0.97203083 0.93649386 0.86672468 0.95387146\n",
      "  0.959283   0.85920073]\n",
      " [0.9998982  0.99657764 0.9998481  0.99985712 0.99963711 0.9999494\n",
      "  0.99993561 0.99857214]\n",
      " [0.99993917 0.99649133 0.99993122 0.99993733 0.99982518 0.99998131\n",
      "  0.99996972 0.99949189]\n",
      " [0.99999717 0.99987757 0.99999155 0.99999781 0.99998324 0.99999566\n",
      "  0.99999548 0.99994243]\n",
      " [0.99994909 0.99784336 0.99986279 0.99992963 0.99979923 0.99996914\n",
      "  0.9999559  0.99888273]\n",
      " [0.99999141 0.99892332 0.9999565  0.99998839 0.99995648 0.99997976\n",
      "  0.99997629 0.99984485]\n",
      " [0.99994898 0.9986005  0.99993861 0.99996012 0.99983047 0.99999117\n",
      "  0.99998053 0.99952363]\n",
      " [0.99996628 0.99906934 0.99993131 0.99996471 0.99986194 0.99998508\n",
      "  0.99997812 0.99931567]\n",
      " [0.99998241 0.9985293  0.99992473 0.9999727  0.99991753 0.99996797\n",
      "  0.99996595 0.99956344]\n",
      " [0.99999176 0.99928075 0.99998028 0.99999206 0.9999641  0.99999027\n",
      "  0.9999882  0.99990311]]\n"
     ]
    }
   ],
   "source": [
    "total_hidden_states = []\n",
    "\n",
    "for input_t in inputs:\n",
    "    output_t = np.tanh(np.dot(Wx,input_t) + np.dot(Wh,hidden_state_t) + b) # h_t\n",
    "    total_hidden_states.append(list(output_t)) # 각 시점의 은닉 상태 값 축적\n",
    "    print(np.shape(total_hidden_states))\n",
    "    hidden_state_t = output_t\n",
    "    \n",
    "total_hidden_states = np.stack(total_hidden_states, axis=0) # 출력 정리\n",
    "\n",
    "print(total_hidden_states) # (timesteps, input_dim)                               "
   ]
  },
  {
   "cell_type": "markdown",
   "id": "4a03c9d0",
   "metadata": {},
   "source": [
    "## 깊은 순환 신경망(Deep Recurrent Neural Network)"
   ]
  },
  {
   "cell_type": "code",
   "execution_count": null,
   "id": "6c44ee6e",
   "metadata": {},
   "outputs": [],
   "source": [
    "model = Sequential()\n",
    "model.add(SimpleRNN(hidden_size, return_sequences = True))\n",
    "model.add(SimpleRNN(hidden_size, return_sequences = True))\n",
    "'''\n",
    "    첫 은닉층은 다음 은닉층이 존재하므로 return_sequences를 True로 설정함.\n",
    "'''"
   ]
  },
  {
   "cell_type": "markdown",
   "id": "65853f56",
   "metadata": {},
   "source": [
    "## 양방향 순환 신경망(Bidirectional Neural Network)\n",
    "이전 시점의 데이터뿐만 아니라 이후 시점의 데이터도 참고하여 정답을 예측하는 모델"
   ]
  },
  {
   "cell_type": "code",
   "execution_count": null,
   "id": "5f0eadd6",
   "metadata": {},
   "outputs": [],
   "source": [
    "'''\n",
    "    두 개의 메모리 셀 사용\n",
    "    1) 앞 시점의 은닉 상태를 전달 받아 현재의 은닉 상태 계산 (Forward States)\n",
    "    2) 뒤 시점의 은닉 상태를 전달 받아 현재의 은닉 상태 계산 (Backward States)\n",
    "'''"
   ]
  },
  {
   "cell_type": "code",
   "execution_count": null,
   "id": "ed575889",
   "metadata": {},
   "outputs": [],
   "source": [
    "from tensorflow.keras.models import Sequential\n",
    "from tensorflow.keras.layers import SimpleRNN, Bidirectional\n",
    "\n",
    "model = Sequential()\n",
    "model.add(Bidirectional(SimpleRNN(hidden_size, return_sequences=True), input_shape=(timesteps, input_dim)))"
   ]
  },
  {
   "cell_type": "code",
   "execution_count": null,
   "id": "b966da46",
   "metadata": {},
   "outputs": [],
   "source": [
    "# 은닉층이 4개인 경우\n",
    "model = Sequential()\n",
    "model.add(Bidirectional(SimpleRNN(hidden_size, return_sequences = True), input_shape=(timesteps, input_dim)))\n",
    "model.add(Bidirectional(SimpleRNN(hidden_size, return_sequences = True)))\n",
    "model.add(Bidirectional(SimpleRNN(hidden_size, return_sequences = True)))\n",
    "model.add(Bidirectional(SimpleRNN(hidden_size, return_sequences = True)))"
   ]
  },
  {
   "cell_type": "markdown",
   "id": "8faf36e1",
   "metadata": {},
   "source": [
    "## Quiz"
   ]
  },
  {
   "cell_type": "markdown",
   "id": "d9cbecfe",
   "metadata": {},
   "source": [
    "Embedding을 사용하며, 단어 집합(Vocabulary)의 크기가 5,000이고 임베딩 벡터의 차원은 100입니다.<br>\n",
    "은닉층에서는 Simple RNN을 사용하며, 은닉 상태의 크기는 128입니다.<br>\n",
    "훈련에 사용하는 모든 샘플의 길이는 30으로 가정합니다.<br>\n",
    "이진 분류를 수행하는 모델로, 출력층의 뉴런은 1개로 시그모이드 함수를 사용합니다.<br>\n",
    "은닉층은 1개입니다."
   ]
  },
  {
   "cell_type": "code",
   "execution_count": 24,
   "id": "3019c9b7",
   "metadata": {},
   "outputs": [],
   "source": [
    "from keras.models import Sequential\n",
    "from keras.layers import SimpleRNN, Embedding, Dense\n",
    "\n",
    "vocab_size = 5000\n",
    "embedding_dim = 100\n",
    "hidden_size = 128\n",
    "\n",
    "model = Sequential()\n",
    "model.add(Embedding(vocab_size, embedding_dim)) # 5,000*100 = 500,000 개\n",
    "model.add(SimpleRNN(hidden_size)) \n",
    "model.add(Dense(1, activation='sigmoid'))\n",
    "model.summary()"
   ]
  },
  {
   "cell_type": "markdown",
   "id": "50222adc",
   "metadata": {},
   "source": [
    "Wx: 100(embedding) * 128(hidden) = 12,800개<br>\n",
    "Wh: 128*128 = 16,384개<br>\n",
    "b: 128<br>\n",
    "Wy: 128<br>\n",
    "b(output): 1<br>\n",
    "total: 529,411개"
   ]
  },
  {
   "cell_type": "code",
   "execution_count": null,
   "id": "ea6559d6",
   "metadata": {},
   "outputs": [],
   "source": []
  }
 ],
 "metadata": {
  "kernelspec": {
   "display_name": "Python 3",
   "language": "python",
   "name": "python3"
  },
  "language_info": {
   "codemirror_mode": {
    "name": "ipython",
    "version": 3
   },
   "file_extension": ".py",
   "mimetype": "text/x-python",
   "name": "python",
   "nbconvert_exporter": "python",
   "pygments_lexer": "ipython3",
   "version": "3.8.8"
  }
 },
 "nbformat": 4,
 "nbformat_minor": 5
}
