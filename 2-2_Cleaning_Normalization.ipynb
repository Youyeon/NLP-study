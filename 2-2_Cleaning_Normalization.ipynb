{
 "cells": [
  {
   "cell_type": "markdown",
   "id": "4b4446a2",
   "metadata": {},
   "source": [
    "## 정제(Cleaning) & 정규화(Normalization)\n",
    "<ol>정제(cleaning): 갖고 있는 코퍼스로부터 노이즈 데이터를 제거한다.</ol>\n",
    "<ol>정규화(Normalization): 표현 방법이 다른 단어들을 통합시켜서 같은 단어로 만들어 준다.</ol>"
   ]
  },
  {
   "cell_type": "markdown",
   "id": "cc50c9cc",
   "metadata": {},
   "source": [
    "1. 규칙에 기반한 표기가 다른 단어들의 통합 (ex- US USA)\n",
    "2. 대, 소문자 통합\n",
    "3. 불필요한 단어 제거 - 자연어가 아니면서 아무 의미도 갖지 않는 글자 (특수 문자 등) 제거\n",
    "\n",
    "    1) 등장 빈도가 적은 단어\n",
    "    2) 길이가 짧은 단어 - 주로 영어권 언어에 해당\n",
    "4. 정규 표현식"
   ]
  },
  {
   "cell_type": "code",
   "execution_count": 1,
   "id": "cc08e3e1",
   "metadata": {},
   "outputs": [
    {
     "name": "stdout",
     "output_type": "stream",
     "text": [
      " was wondering anyone out there could enlighten this car.\n"
     ]
    }
   ],
   "source": [
    "# 길이가 1~2인 단어들을 정규 표현식을 이용하여 삭제\n",
    "import re\n",
    "text = \"I was wondering if anyone out there could enlighten me on this car.\"\n",
    "shortword = re.compile(r'\\W*\\b\\w{1,2}\\b')\n",
    "print(shortword.sub('', text))"
   ]
  },
  {
   "cell_type": "code",
   "execution_count": null,
   "id": "5aeb486b",
   "metadata": {},
   "outputs": [],
   "source": []
  }
 ],
 "metadata": {
  "kernelspec": {
   "display_name": "Python 3",
   "language": "python",
   "name": "python3"
  },
  "language_info": {
   "codemirror_mode": {
    "name": "ipython",
    "version": 3
   },
   "file_extension": ".py",
   "mimetype": "text/x-python",
   "name": "python",
   "nbconvert_exporter": "python",
   "pygments_lexer": "ipython3",
   "version": "3.8.8"
  }
 },
 "nbformat": 4,
 "nbformat_minor": 5
}
